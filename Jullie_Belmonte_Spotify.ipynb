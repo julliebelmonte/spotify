{
  "nbformat": 4,
  "nbformat_minor": 0,
  "metadata": {
    "colab": {
      "name": "Jullie Belmonte - Spotify.ipynb",
      "provenance": []
    },
    "kernelspec": {
      "name": "python3",
      "display_name": "Python 3"
    },
    "language_info": {
      "name": "python"
    }
  },
  "cells": [
    {
      "cell_type": "markdown",
      "source": [
        "# Spotify top 50 \n",
        "\n",
        "Utilizando o dataset de 50 músicas mais tocadas de 2019, o objetivo é **prever a popularidade da música através de modelos de machine learning**.\n",
        "\n",
        "\n",
        "> Serão utilizadas as seguintes features: \n",
        "\n",
        "\n",
        "- **Danceability:** Describes how suitable a track is for dancing based on a combination of musical elements including tempo, rhythm stability, beat strength, and overall regularity.\n",
        "\n",
        "- **Valence:** Describes the musical positiveness conveyed by a track. Tracks with high valence sound more positive (e.g. happy, cheerful, euphoric), while tracks with low valence sound more negative (e.g. sad, depressed, angry).\n",
        "\n",
        "- **Energy:** Represents a perceptual measure of intensity and activity. Typically, energetic tracks feel fast, loud, and noisy. For example, death metal has high energy, while a Bach prelude scores low on the scale.\n",
        "\n",
        "- **BPM:** The overall estimated tempo of a track in beats per minute (BPM). In musical terminology, tempo is the speed or pace of a given piece, and derives directly from the average beat duration.\n",
        "\n",
        "- **Loudness:** The overall loudness of a track in decibels (dB). Loudness values are averaged across the entire track and are useful for comparing relative loudness of tracks.\n",
        "\n",
        "- **Speechiness:** This detects the presence of spoken words in a track. The more exclusively speech-like the recording (e.g. talk show, audio book, poetry), the closer to 1.0 the attribute value.\n",
        "\n",
        "- **Liveness:** Detects the presence of an audience in the recording. Higher liveness values represent an increased probability that the track was performed live.\n",
        "\n",
        "\n",
        "<center><img src=\"https://c.tenor.com/fJh-W38iA3oAAAAC/dance-kid.gif\" width = 40%/></center>\n",
        "<br><br>\n"
      ],
      "metadata": {
        "id": "28oSh6y21CRr"
      }
    },
    {
      "cell_type": "code",
      "source": [
        "import numpy as np\n",
        "import pandas as pd\n",
        "import matplotlib.pyplot as plt\n",
        "import seaborn as sns"
      ],
      "metadata": {
        "id": "dvJAdozYUj1y"
      },
      "execution_count": null,
      "outputs": []
    },
    {
      "cell_type": "code",
      "source": [
        "from google.colab import files\n",
        "upload = files.upload()"
      ],
      "metadata": {
        "colab": {
          "resources": {
            "http://localhost:8080/nbextensions/google.colab/files.js": {
              "data": "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",
              "ok": true,
              "headers": [
                [
                  "content-type",
                  "application/javascript"
                ]
              ],
              "status": 200,
              "status_text": ""
            }
          },
          "base_uri": "https://localhost:8080/",
          "height": 74
        },
        "id": "fXRE4n-fUnZ3",
        "outputId": "efdd455b-86b8-4ffc-ef77-3e83b4bbf2c9"
      },
      "execution_count": null,
      "outputs": [
        {
          "output_type": "display_data",
          "data": {
            "text/plain": [
              "<IPython.core.display.HTML object>"
            ],
            "text/html": [
              "\n",
              "     <input type=\"file\" id=\"files-a5408bc1-cc5b-42e1-8b53-903c961c54d0\" name=\"files[]\" multiple disabled\n",
              "        style=\"border:none\" />\n",
              "     <output id=\"result-a5408bc1-cc5b-42e1-8b53-903c961c54d0\">\n",
              "      Upload widget is only available when the cell has been executed in the\n",
              "      current browser session. Please rerun this cell to enable.\n",
              "      </output>\n",
              "      <script src=\"/nbextensions/google.colab/files.js\"></script> "
            ]
          },
          "metadata": {}
        },
        {
          "output_type": "stream",
          "name": "stdout",
          "text": [
            "Saving spotify.csv to spotify (3).csv\n"
          ]
        }
      ]
    },
    {
      "cell_type": "code",
      "source": [
        "df = pd.read_csv('spotify.csv', encoding='latin-1')"
      ],
      "metadata": {
        "id": "rQ7pxNU7Ur1k"
      },
      "execution_count": null,
      "outputs": []
    },
    {
      "cell_type": "code",
      "source": [
        "df.shape"
      ],
      "metadata": {
        "colab": {
          "base_uri": "https://localhost:8080/"
        },
        "id": "Del26lI0WmFL",
        "outputId": "1a3a9090-2c37-4ee3-fd66-564be6ef66d1"
      },
      "execution_count": null,
      "outputs": [
        {
          "output_type": "execute_result",
          "data": {
            "text/plain": [
              "(50, 14)"
            ]
          },
          "metadata": {},
          "execution_count": 28
        }
      ]
    },
    {
      "cell_type": "code",
      "source": [
        "df.head()"
      ],
      "metadata": {
        "colab": {
          "base_uri": "https://localhost:8080/",
          "height": 461
        },
        "id": "MNwK9LcRWR9k",
        "outputId": "b4e31059-5166-4709-99ac-ed3cb20dda45"
      },
      "execution_count": null,
      "outputs": [
        {
          "output_type": "execute_result",
          "data": {
            "text/plain": [
              "   Unnamed: 0                       Track.Name    Artist.Name           Genre  \\\n",
              "0           1                         Senorita   Shawn Mendes    canadian pop   \n",
              "1           2                            China       Anuel AA  reggaeton flow   \n",
              "2           3    boyfriend (with Social House)  Ariana Grande       dance pop   \n",
              "3           4  Beautiful People (feat. Khalid)     Ed Sheeran             pop   \n",
              "4           5      Goodbyes (Feat. Young Thug)    Post Malone         dfw rap   \n",
              "\n",
              "   BPM  Energy  Danceability  Loudness  Liveness  Valence.  Length.  \\\n",
              "0  117      55            76        -6         8        75      191   \n",
              "1  105      81            79        -4         8        61      302   \n",
              "2  190      80            40        -4        16        70      186   \n",
              "3   93      65            64        -8         8        55      198   \n",
              "4  150      65            58        -4        11        18      175   \n",
              "\n",
              "   Acousticness..  Speechiness.  Popularity  \n",
              "0               4             3          79  \n",
              "1               8             9          92  \n",
              "2              12            46          85  \n",
              "3              12            19          86  \n",
              "4              45             7          94  "
            ],
            "text/html": [
              "\n",
              "  <div id=\"df-00775b48-364c-43aa-b6e9-97b2916537d4\">\n",
              "    <div class=\"colab-df-container\">\n",
              "      <div>\n",
              "<style scoped>\n",
              "    .dataframe tbody tr th:only-of-type {\n",
              "        vertical-align: middle;\n",
              "    }\n",
              "\n",
              "    .dataframe tbody tr th {\n",
              "        vertical-align: top;\n",
              "    }\n",
              "\n",
              "    .dataframe thead th {\n",
              "        text-align: right;\n",
              "    }\n",
              "</style>\n",
              "<table border=\"1\" class=\"dataframe\">\n",
              "  <thead>\n",
              "    <tr style=\"text-align: right;\">\n",
              "      <th></th>\n",
              "      <th>Unnamed: 0</th>\n",
              "      <th>Track.Name</th>\n",
              "      <th>Artist.Name</th>\n",
              "      <th>Genre</th>\n",
              "      <th>BPM</th>\n",
              "      <th>Energy</th>\n",
              "      <th>Danceability</th>\n",
              "      <th>Loudness</th>\n",
              "      <th>Liveness</th>\n",
              "      <th>Valence.</th>\n",
              "      <th>Length.</th>\n",
              "      <th>Acousticness..</th>\n",
              "      <th>Speechiness.</th>\n",
              "      <th>Popularity</th>\n",
              "    </tr>\n",
              "  </thead>\n",
              "  <tbody>\n",
              "    <tr>\n",
              "      <th>0</th>\n",
              "      <td>1</td>\n",
              "      <td>Senorita</td>\n",
              "      <td>Shawn Mendes</td>\n",
              "      <td>canadian pop</td>\n",
              "      <td>117</td>\n",
              "      <td>55</td>\n",
              "      <td>76</td>\n",
              "      <td>-6</td>\n",
              "      <td>8</td>\n",
              "      <td>75</td>\n",
              "      <td>191</td>\n",
              "      <td>4</td>\n",
              "      <td>3</td>\n",
              "      <td>79</td>\n",
              "    </tr>\n",
              "    <tr>\n",
              "      <th>1</th>\n",
              "      <td>2</td>\n",
              "      <td>China</td>\n",
              "      <td>Anuel AA</td>\n",
              "      <td>reggaeton flow</td>\n",
              "      <td>105</td>\n",
              "      <td>81</td>\n",
              "      <td>79</td>\n",
              "      <td>-4</td>\n",
              "      <td>8</td>\n",
              "      <td>61</td>\n",
              "      <td>302</td>\n",
              "      <td>8</td>\n",
              "      <td>9</td>\n",
              "      <td>92</td>\n",
              "    </tr>\n",
              "    <tr>\n",
              "      <th>2</th>\n",
              "      <td>3</td>\n",
              "      <td>boyfriend (with Social House)</td>\n",
              "      <td>Ariana Grande</td>\n",
              "      <td>dance pop</td>\n",
              "      <td>190</td>\n",
              "      <td>80</td>\n",
              "      <td>40</td>\n",
              "      <td>-4</td>\n",
              "      <td>16</td>\n",
              "      <td>70</td>\n",
              "      <td>186</td>\n",
              "      <td>12</td>\n",
              "      <td>46</td>\n",
              "      <td>85</td>\n",
              "    </tr>\n",
              "    <tr>\n",
              "      <th>3</th>\n",
              "      <td>4</td>\n",
              "      <td>Beautiful People (feat. Khalid)</td>\n",
              "      <td>Ed Sheeran</td>\n",
              "      <td>pop</td>\n",
              "      <td>93</td>\n",
              "      <td>65</td>\n",
              "      <td>64</td>\n",
              "      <td>-8</td>\n",
              "      <td>8</td>\n",
              "      <td>55</td>\n",
              "      <td>198</td>\n",
              "      <td>12</td>\n",
              "      <td>19</td>\n",
              "      <td>86</td>\n",
              "    </tr>\n",
              "    <tr>\n",
              "      <th>4</th>\n",
              "      <td>5</td>\n",
              "      <td>Goodbyes (Feat. Young Thug)</td>\n",
              "      <td>Post Malone</td>\n",
              "      <td>dfw rap</td>\n",
              "      <td>150</td>\n",
              "      <td>65</td>\n",
              "      <td>58</td>\n",
              "      <td>-4</td>\n",
              "      <td>11</td>\n",
              "      <td>18</td>\n",
              "      <td>175</td>\n",
              "      <td>45</td>\n",
              "      <td>7</td>\n",
              "      <td>94</td>\n",
              "    </tr>\n",
              "  </tbody>\n",
              "</table>\n",
              "</div>\n",
              "      <button class=\"colab-df-convert\" onclick=\"convertToInteractive('df-00775b48-364c-43aa-b6e9-97b2916537d4')\"\n",
              "              title=\"Convert this dataframe to an interactive table.\"\n",
              "              style=\"display:none;\">\n",
              "        \n",
              "  <svg xmlns=\"http://www.w3.org/2000/svg\" height=\"24px\"viewBox=\"0 0 24 24\"\n",
              "       width=\"24px\">\n",
              "    <path d=\"M0 0h24v24H0V0z\" fill=\"none\"/>\n",
              "    <path d=\"M18.56 5.44l.94 2.06.94-2.06 2.06-.94-2.06-.94-.94-2.06-.94 2.06-2.06.94zm-11 1L8.5 8.5l.94-2.06 2.06-.94-2.06-.94L8.5 2.5l-.94 2.06-2.06.94zm10 10l.94 2.06.94-2.06 2.06-.94-2.06-.94-.94-2.06-.94 2.06-2.06.94z\"/><path d=\"M17.41 7.96l-1.37-1.37c-.4-.4-.92-.59-1.43-.59-.52 0-1.04.2-1.43.59L10.3 9.45l-7.72 7.72c-.78.78-.78 2.05 0 2.83L4 21.41c.39.39.9.59 1.41.59.51 0 1.02-.2 1.41-.59l7.78-7.78 2.81-2.81c.8-.78.8-2.07 0-2.86zM5.41 20L4 18.59l7.72-7.72 1.47 1.35L5.41 20z\"/>\n",
              "  </svg>\n",
              "      </button>\n",
              "      \n",
              "  <style>\n",
              "    .colab-df-container {\n",
              "      display:flex;\n",
              "      flex-wrap:wrap;\n",
              "      gap: 12px;\n",
              "    }\n",
              "\n",
              "    .colab-df-convert {\n",
              "      background-color: #E8F0FE;\n",
              "      border: none;\n",
              "      border-radius: 50%;\n",
              "      cursor: pointer;\n",
              "      display: none;\n",
              "      fill: #1967D2;\n",
              "      height: 32px;\n",
              "      padding: 0 0 0 0;\n",
              "      width: 32px;\n",
              "    }\n",
              "\n",
              "    .colab-df-convert:hover {\n",
              "      background-color: #E2EBFA;\n",
              "      box-shadow: 0px 1px 2px rgba(60, 64, 67, 0.3), 0px 1px 3px 1px rgba(60, 64, 67, 0.15);\n",
              "      fill: #174EA6;\n",
              "    }\n",
              "\n",
              "    [theme=dark] .colab-df-convert {\n",
              "      background-color: #3B4455;\n",
              "      fill: #D2E3FC;\n",
              "    }\n",
              "\n",
              "    [theme=dark] .colab-df-convert:hover {\n",
              "      background-color: #434B5C;\n",
              "      box-shadow: 0px 1px 3px 1px rgba(0, 0, 0, 0.15);\n",
              "      filter: drop-shadow(0px 1px 2px rgba(0, 0, 0, 0.3));\n",
              "      fill: #FFFFFF;\n",
              "    }\n",
              "  </style>\n",
              "\n",
              "      <script>\n",
              "        const buttonEl =\n",
              "          document.querySelector('#df-00775b48-364c-43aa-b6e9-97b2916537d4 button.colab-df-convert');\n",
              "        buttonEl.style.display =\n",
              "          google.colab.kernel.accessAllowed ? 'block' : 'none';\n",
              "\n",
              "        async function convertToInteractive(key) {\n",
              "          const element = document.querySelector('#df-00775b48-364c-43aa-b6e9-97b2916537d4');\n",
              "          const dataTable =\n",
              "            await google.colab.kernel.invokeFunction('convertToInteractive',\n",
              "                                                     [key], {});\n",
              "          if (!dataTable) return;\n",
              "\n",
              "          const docLinkHtml = 'Like what you see? Visit the ' +\n",
              "            '<a target=\"_blank\" href=https://colab.research.google.com/notebooks/data_table.ipynb>data table notebook</a>'\n",
              "            + ' to learn more about interactive tables.';\n",
              "          element.innerHTML = '';\n",
              "          dataTable['output_type'] = 'display_data';\n",
              "          await google.colab.output.renderOutput(dataTable, element);\n",
              "          const docLink = document.createElement('div');\n",
              "          docLink.innerHTML = docLinkHtml;\n",
              "          element.appendChild(docLink);\n",
              "        }\n",
              "      </script>\n",
              "    </div>\n",
              "  </div>\n",
              "  "
            ]
          },
          "metadata": {},
          "execution_count": 27
        }
      ]
    },
    {
      "cell_type": "code",
      "source": [
        "df.info()"
      ],
      "metadata": {
        "colab": {
          "base_uri": "https://localhost:8080/"
        },
        "id": "A_TZ7whfWXXf",
        "outputId": "571d636d-5db7-4ba0-99ef-595831dcb6b3"
      },
      "execution_count": null,
      "outputs": [
        {
          "output_type": "stream",
          "name": "stdout",
          "text": [
            "<class 'pandas.core.frame.DataFrame'>\n",
            "RangeIndex: 50 entries, 0 to 49\n",
            "Data columns (total 14 columns):\n",
            " #   Column          Non-Null Count  Dtype \n",
            "---  ------          --------------  ----- \n",
            " 0   Unnamed: 0      50 non-null     int64 \n",
            " 1   Track.Name      50 non-null     object\n",
            " 2   Artist.Name     50 non-null     object\n",
            " 3   Genre           50 non-null     object\n",
            " 4   BPM             50 non-null     int64 \n",
            " 5   Energy          50 non-null     int64 \n",
            " 6   Danceability    50 non-null     int64 \n",
            " 7   Loudness        50 non-null     int64 \n",
            " 8   Liveness        50 non-null     int64 \n",
            " 9   Valence.        50 non-null     int64 \n",
            " 10  Length.         50 non-null     int64 \n",
            " 11  Acousticness..  50 non-null     int64 \n",
            " 12  Speechiness.    50 non-null     int64 \n",
            " 13  Popularity      50 non-null     int64 \n",
            "dtypes: int64(11), object(3)\n",
            "memory usage: 5.6+ KB\n"
          ]
        }
      ]
    },
    {
      "cell_type": "code",
      "source": [
        "df.describe().T"
      ],
      "metadata": {
        "colab": {
          "base_uri": "https://localhost:8080/",
          "height": 394
        },
        "id": "pHBHbY1aWdLR",
        "outputId": "50a85274-b5db-4747-c902-0eb78551bb9d"
      },
      "execution_count": null,
      "outputs": [
        {
          "output_type": "execute_result",
          "data": {
            "text/plain": [
              "                count    mean        std    min     25%    50%     75%    max\n",
              "Unnamed: 0       50.0   25.50  14.577380    1.0   13.25   25.5   37.75   50.0\n",
              "BPM              50.0  120.06  30.898392   85.0   96.00  104.5  137.50  190.0\n",
              "Energy           50.0   64.06  14.231913   32.0   55.25   66.5   74.75   88.0\n",
              "Danceability     50.0   71.38  11.929880   29.0   67.00   73.5   79.75   90.0\n",
              "Loudness         50.0   -5.66   2.056448  -11.0   -6.75   -6.0   -4.00   -2.0\n",
              "Liveness         50.0   14.66  11.118306    5.0    8.00   11.0   15.75   58.0\n",
              "Valence.         50.0   54.60  22.336024   10.0   38.25   55.5   69.50   95.0\n",
              "Length.          50.0  200.96  39.143879  115.0  176.75  198.0  217.50  309.0\n",
              "Acousticness..   50.0   22.16  18.995553    1.0    8.25   15.0   33.75   75.0\n",
              "Speechiness.     50.0   12.48  11.161596    3.0    5.00    7.0   15.00   46.0\n",
              "Popularity       50.0   87.50   4.491489   70.0   86.00   88.0   90.75   95.0"
            ],
            "text/html": [
              "\n",
              "  <div id=\"df-6cd5f7d2-1f50-4447-89e6-73e1be885c19\">\n",
              "    <div class=\"colab-df-container\">\n",
              "      <div>\n",
              "<style scoped>\n",
              "    .dataframe tbody tr th:only-of-type {\n",
              "        vertical-align: middle;\n",
              "    }\n",
              "\n",
              "    .dataframe tbody tr th {\n",
              "        vertical-align: top;\n",
              "    }\n",
              "\n",
              "    .dataframe thead th {\n",
              "        text-align: right;\n",
              "    }\n",
              "</style>\n",
              "<table border=\"1\" class=\"dataframe\">\n",
              "  <thead>\n",
              "    <tr style=\"text-align: right;\">\n",
              "      <th></th>\n",
              "      <th>count</th>\n",
              "      <th>mean</th>\n",
              "      <th>std</th>\n",
              "      <th>min</th>\n",
              "      <th>25%</th>\n",
              "      <th>50%</th>\n",
              "      <th>75%</th>\n",
              "      <th>max</th>\n",
              "    </tr>\n",
              "  </thead>\n",
              "  <tbody>\n",
              "    <tr>\n",
              "      <th>Unnamed: 0</th>\n",
              "      <td>50.0</td>\n",
              "      <td>25.50</td>\n",
              "      <td>14.577380</td>\n",
              "      <td>1.0</td>\n",
              "      <td>13.25</td>\n",
              "      <td>25.5</td>\n",
              "      <td>37.75</td>\n",
              "      <td>50.0</td>\n",
              "    </tr>\n",
              "    <tr>\n",
              "      <th>BPM</th>\n",
              "      <td>50.0</td>\n",
              "      <td>120.06</td>\n",
              "      <td>30.898392</td>\n",
              "      <td>85.0</td>\n",
              "      <td>96.00</td>\n",
              "      <td>104.5</td>\n",
              "      <td>137.50</td>\n",
              "      <td>190.0</td>\n",
              "    </tr>\n",
              "    <tr>\n",
              "      <th>Energy</th>\n",
              "      <td>50.0</td>\n",
              "      <td>64.06</td>\n",
              "      <td>14.231913</td>\n",
              "      <td>32.0</td>\n",
              "      <td>55.25</td>\n",
              "      <td>66.5</td>\n",
              "      <td>74.75</td>\n",
              "      <td>88.0</td>\n",
              "    </tr>\n",
              "    <tr>\n",
              "      <th>Danceability</th>\n",
              "      <td>50.0</td>\n",
              "      <td>71.38</td>\n",
              "      <td>11.929880</td>\n",
              "      <td>29.0</td>\n",
              "      <td>67.00</td>\n",
              "      <td>73.5</td>\n",
              "      <td>79.75</td>\n",
              "      <td>90.0</td>\n",
              "    </tr>\n",
              "    <tr>\n",
              "      <th>Loudness</th>\n",
              "      <td>50.0</td>\n",
              "      <td>-5.66</td>\n",
              "      <td>2.056448</td>\n",
              "      <td>-11.0</td>\n",
              "      <td>-6.75</td>\n",
              "      <td>-6.0</td>\n",
              "      <td>-4.00</td>\n",
              "      <td>-2.0</td>\n",
              "    </tr>\n",
              "    <tr>\n",
              "      <th>Liveness</th>\n",
              "      <td>50.0</td>\n",
              "      <td>14.66</td>\n",
              "      <td>11.118306</td>\n",
              "      <td>5.0</td>\n",
              "      <td>8.00</td>\n",
              "      <td>11.0</td>\n",
              "      <td>15.75</td>\n",
              "      <td>58.0</td>\n",
              "    </tr>\n",
              "    <tr>\n",
              "      <th>Valence.</th>\n",
              "      <td>50.0</td>\n",
              "      <td>54.60</td>\n",
              "      <td>22.336024</td>\n",
              "      <td>10.0</td>\n",
              "      <td>38.25</td>\n",
              "      <td>55.5</td>\n",
              "      <td>69.50</td>\n",
              "      <td>95.0</td>\n",
              "    </tr>\n",
              "    <tr>\n",
              "      <th>Length.</th>\n",
              "      <td>50.0</td>\n",
              "      <td>200.96</td>\n",
              "      <td>39.143879</td>\n",
              "      <td>115.0</td>\n",
              "      <td>176.75</td>\n",
              "      <td>198.0</td>\n",
              "      <td>217.50</td>\n",
              "      <td>309.0</td>\n",
              "    </tr>\n",
              "    <tr>\n",
              "      <th>Acousticness..</th>\n",
              "      <td>50.0</td>\n",
              "      <td>22.16</td>\n",
              "      <td>18.995553</td>\n",
              "      <td>1.0</td>\n",
              "      <td>8.25</td>\n",
              "      <td>15.0</td>\n",
              "      <td>33.75</td>\n",
              "      <td>75.0</td>\n",
              "    </tr>\n",
              "    <tr>\n",
              "      <th>Speechiness.</th>\n",
              "      <td>50.0</td>\n",
              "      <td>12.48</td>\n",
              "      <td>11.161596</td>\n",
              "      <td>3.0</td>\n",
              "      <td>5.00</td>\n",
              "      <td>7.0</td>\n",
              "      <td>15.00</td>\n",
              "      <td>46.0</td>\n",
              "    </tr>\n",
              "    <tr>\n",
              "      <th>Popularity</th>\n",
              "      <td>50.0</td>\n",
              "      <td>87.50</td>\n",
              "      <td>4.491489</td>\n",
              "      <td>70.0</td>\n",
              "      <td>86.00</td>\n",
              "      <td>88.0</td>\n",
              "      <td>90.75</td>\n",
              "      <td>95.0</td>\n",
              "    </tr>\n",
              "  </tbody>\n",
              "</table>\n",
              "</div>\n",
              "      <button class=\"colab-df-convert\" onclick=\"convertToInteractive('df-6cd5f7d2-1f50-4447-89e6-73e1be885c19')\"\n",
              "              title=\"Convert this dataframe to an interactive table.\"\n",
              "              style=\"display:none;\">\n",
              "        \n",
              "  <svg xmlns=\"http://www.w3.org/2000/svg\" height=\"24px\"viewBox=\"0 0 24 24\"\n",
              "       width=\"24px\">\n",
              "    <path d=\"M0 0h24v24H0V0z\" fill=\"none\"/>\n",
              "    <path d=\"M18.56 5.44l.94 2.06.94-2.06 2.06-.94-2.06-.94-.94-2.06-.94 2.06-2.06.94zm-11 1L8.5 8.5l.94-2.06 2.06-.94-2.06-.94L8.5 2.5l-.94 2.06-2.06.94zm10 10l.94 2.06.94-2.06 2.06-.94-2.06-.94-.94-2.06-.94 2.06-2.06.94z\"/><path d=\"M17.41 7.96l-1.37-1.37c-.4-.4-.92-.59-1.43-.59-.52 0-1.04.2-1.43.59L10.3 9.45l-7.72 7.72c-.78.78-.78 2.05 0 2.83L4 21.41c.39.39.9.59 1.41.59.51 0 1.02-.2 1.41-.59l7.78-7.78 2.81-2.81c.8-.78.8-2.07 0-2.86zM5.41 20L4 18.59l7.72-7.72 1.47 1.35L5.41 20z\"/>\n",
              "  </svg>\n",
              "      </button>\n",
              "      \n",
              "  <style>\n",
              "    .colab-df-container {\n",
              "      display:flex;\n",
              "      flex-wrap:wrap;\n",
              "      gap: 12px;\n",
              "    }\n",
              "\n",
              "    .colab-df-convert {\n",
              "      background-color: #E8F0FE;\n",
              "      border: none;\n",
              "      border-radius: 50%;\n",
              "      cursor: pointer;\n",
              "      display: none;\n",
              "      fill: #1967D2;\n",
              "      height: 32px;\n",
              "      padding: 0 0 0 0;\n",
              "      width: 32px;\n",
              "    }\n",
              "\n",
              "    .colab-df-convert:hover {\n",
              "      background-color: #E2EBFA;\n",
              "      box-shadow: 0px 1px 2px rgba(60, 64, 67, 0.3), 0px 1px 3px 1px rgba(60, 64, 67, 0.15);\n",
              "      fill: #174EA6;\n",
              "    }\n",
              "\n",
              "    [theme=dark] .colab-df-convert {\n",
              "      background-color: #3B4455;\n",
              "      fill: #D2E3FC;\n",
              "    }\n",
              "\n",
              "    [theme=dark] .colab-df-convert:hover {\n",
              "      background-color: #434B5C;\n",
              "      box-shadow: 0px 1px 3px 1px rgba(0, 0, 0, 0.15);\n",
              "      filter: drop-shadow(0px 1px 2px rgba(0, 0, 0, 0.3));\n",
              "      fill: #FFFFFF;\n",
              "    }\n",
              "  </style>\n",
              "\n",
              "      <script>\n",
              "        const buttonEl =\n",
              "          document.querySelector('#df-6cd5f7d2-1f50-4447-89e6-73e1be885c19 button.colab-df-convert');\n",
              "        buttonEl.style.display =\n",
              "          google.colab.kernel.accessAllowed ? 'block' : 'none';\n",
              "\n",
              "        async function convertToInteractive(key) {\n",
              "          const element = document.querySelector('#df-6cd5f7d2-1f50-4447-89e6-73e1be885c19');\n",
              "          const dataTable =\n",
              "            await google.colab.kernel.invokeFunction('convertToInteractive',\n",
              "                                                     [key], {});\n",
              "          if (!dataTable) return;\n",
              "\n",
              "          const docLinkHtml = 'Like what you see? Visit the ' +\n",
              "            '<a target=\"_blank\" href=https://colab.research.google.com/notebooks/data_table.ipynb>data table notebook</a>'\n",
              "            + ' to learn more about interactive tables.';\n",
              "          element.innerHTML = '';\n",
              "          dataTable['output_type'] = 'display_data';\n",
              "          await google.colab.output.renderOutput(dataTable, element);\n",
              "          const docLink = document.createElement('div');\n",
              "          docLink.innerHTML = docLinkHtml;\n",
              "          element.appendChild(docLink);\n",
              "        }\n",
              "      </script>\n",
              "    </div>\n",
              "  </div>\n",
              "  "
            ]
          },
          "metadata": {},
          "execution_count": 30
        }
      ]
    },
    {
      "cell_type": "code",
      "source": [
        "# Verificando valores faltantes\n",
        "df.isnull().sum()"
      ],
      "metadata": {
        "colab": {
          "base_uri": "https://localhost:8080/"
        },
        "id": "D4H0nUWFzYgh",
        "outputId": "ef8f65df-0578-4787-8103-d45b286c099a"
      },
      "execution_count": null,
      "outputs": [
        {
          "output_type": "execute_result",
          "data": {
            "text/plain": [
              "Track.Name        0\n",
              "Artist.Name       0\n",
              "Genre             0\n",
              "BPM               0\n",
              "Energy            0\n",
              "Danceability      0\n",
              "Loudness          0\n",
              "Liveness          0\n",
              "Valence.          0\n",
              "Length.           0\n",
              "Acousticness..    0\n",
              "Speechiness.      0\n",
              "Popularity        0\n",
              "dtype: int64"
            ]
          },
          "metadata": {},
          "execution_count": 35
        }
      ]
    },
    {
      "cell_type": "code",
      "source": [
        "# Quais são os tipos e quantas músicas em cada gênero?\n",
        "\n",
        "print(type(df['Genre']))\n",
        "popular_genre=df.groupby('Genre').size().unique\n",
        "print(popular_genre)\n",
        "genre_list=df['Genre'].values.tolist()"
      ],
      "metadata": {
        "colab": {
          "base_uri": "https://localhost:8080/"
        },
        "id": "IzBRlXyizmAl",
        "outputId": "56289a5a-6d2c-4ce5-f57b-a332e286d8cf"
      },
      "execution_count": null,
      "outputs": [
        {
          "output_type": "stream",
          "name": "stdout",
          "text": [
            "<class 'pandas.core.series.Series'>\n",
            "<bound method Series.unique of Genre\n",
            "atl hip hop         1\n",
            "australian pop      1\n",
            "big room            1\n",
            "boy band            1\n",
            "brostep             2\n",
            "canadian hip hop    3\n",
            "canadian pop        2\n",
            "country rap         2\n",
            "dance pop           8\n",
            "dfw rap             2\n",
            "edm                 3\n",
            "electropop          2\n",
            "escape room         1\n",
            "latin               5\n",
            "panamanian pop      2\n",
            "pop                 7\n",
            "pop house           1\n",
            "r&b en espanol      1\n",
            "reggaeton           2\n",
            "reggaeton flow      2\n",
            "trap music          1\n",
            "dtype: int64>\n"
          ]
        }
      ]
    },
    {
      "cell_type": "code",
      "source": [
        "#Calculando o número de músicas no top 50 por artista\n",
        "\n",
        "print(df.groupby('Artist.Name').size())\n"
      ],
      "metadata": {
        "colab": {
          "base_uri": "https://localhost:8080/"
        },
        "id": "eHs165tJ1XFs",
        "outputId": "786b4ca9-1e8a-4f19-8fc5-48a115703870"
      },
      "execution_count": 102,
      "outputs": [
        {
          "output_type": "stream",
          "name": "stdout",
          "text": [
            "Artist.Name\n",
            "Ali Gatie           1\n",
            "Anuel AA            1\n",
            "Ariana Grande       2\n",
            "Bad Bunny           1\n",
            "Billie Eilish       2\n",
            "Chris Brown         1\n",
            "DJ Snake            1\n",
            "Daddy Yankee        1\n",
            "Drake               1\n",
            "Ed Sheeran          4\n",
            "J Balvin            2\n",
            "Jhay Cortez         1\n",
            "Jonas Brothers      1\n",
            "Katy Perry          1\n",
            "Khalid              1\n",
            "Kygo                1\n",
            "Lady Gaga           1\n",
            "Lauv                1\n",
            "Lewis Capaldi       1\n",
            "Lil Nas X           2\n",
            "Lil Tecca           1\n",
            "Lizzo               1\n",
            "Lunay               1\n",
            "MEDUZA              1\n",
            "Maluma              1\n",
            "Marshmello          2\n",
            "Martin Garrix       1\n",
            "Nicky Jam           1\n",
            "Post Malone         2\n",
            "ROSALÍA             1\n",
            "Sam Smith           1\n",
            "Sech                2\n",
            "Shawn Mendes        2\n",
            "Taylor Swift        1\n",
            "The Chainsmokers    2\n",
            "Tones and I         1\n",
            "Y2K                 1\n",
            "Young Thug          1\n",
            "dtype: int64\n"
          ]
        }
      ]
    },
    {
      "cell_type": "markdown",
      "source": [
        "Ed Sheeran se destaca com 4 músicas no top 50.\n",
        "Em seguida, com 2 músicas cada, Shawn Mendes, Ariana Grande, Post Malone, Lil Nas X, Billie Eillish, Sech, J Balvin, Chainsmokers e Marshmello."
      ],
      "metadata": {
        "id": "ZU17vachasJS"
      }
    },
    {
      "cell_type": "code",
      "source": [
        "df.drop(['Track.Name'], axis=1)\n"
      ],
      "metadata": {
        "colab": {
          "base_uri": "https://localhost:8080/",
          "height": 1000
        },
        "id": "7I47Hlda83ux",
        "outputId": "e88ec151-420c-479e-99dc-ba98162a0fd0"
      },
      "execution_count": null,
      "outputs": [
        {
          "output_type": "execute_result",
          "data": {
            "text/plain": [
              "         Artist.Name             Genre  BPM  Energy  Danceability  Loudness  \\\n",
              "0       Shawn Mendes      canadian pop  117      55            76        -6   \n",
              "1           Anuel AA    reggaeton flow  105      81            79        -4   \n",
              "2      Ariana Grande         dance pop  190      80            40        -4   \n",
              "3         Ed Sheeran               pop   93      65            64        -8   \n",
              "4        Post Malone           dfw rap  150      65            58        -4   \n",
              "5         Ed Sheeran               pop  102      68            80        -5   \n",
              "6          Lil Tecca        trap music  180      64            75        -6   \n",
              "7          Sam Smith               pop  111      68            48        -5   \n",
              "8          Lil Nas X       country rap  136      62            88        -6   \n",
              "9      Billie Eilish        electropop  135      43            70       -11   \n",
              "10         Bad Bunny         reggaeton  176      62            61        -5   \n",
              "11          DJ Snake         dance pop   96      71            82        -4   \n",
              "12     Lewis Capaldi               pop  110      41            50        -6   \n",
              "13              Sech    panamanian pop  176      79            73        -2   \n",
              "14             Drake  canadian hip hop  101      50            83        -4   \n",
              "15       Chris Brown         dance pop   93      45            70        -7   \n",
              "16          J Balvin             latin  176      65            75        -6   \n",
              "17       Post Malone           dfw rap   90      48            76        -6   \n",
              "18               Y2K  canadian hip hop  130      39            84        -8   \n",
              "19             Lizzo       escape room  158      62            72        -3   \n",
              "20            MEDUZA         pop house  124      74            68        -7   \n",
              "21         Lil Nas X       country rap  154      59            70        -6   \n",
              "22       Jhay Cortez    reggaeton flow   92      79            81        -4   \n",
              "23             Lunay             latin   92      78            80        -4   \n",
              "24     Billie Eilish        electropop  135      45            67       -11   \n",
              "25      Shawn Mendes      canadian pop  124      82            69        -4   \n",
              "26       Tones and I    australian pop   98      59            82        -6   \n",
              "27         Ali Gatie  canadian hip hop   96      46            73        -7   \n",
              "28      Daddy Yankee             latin   94      86            74        -3   \n",
              "29          J Balvin             latin   93      79            64        -4   \n",
              "30  The Chainsmokers               edm   85      51            29        -8   \n",
              "31     Ariana Grande         dance pop  140      32            78       -11   \n",
              "32            Maluma         reggaeton   96      71            78        -5   \n",
              "33        Young Thug       atl hip hop   98      59            80        -7   \n",
              "34        Katy Perry         dance pop  100      88            77        -5   \n",
              "35     Martin Garrix          big room  114      72            66        -7   \n",
              "36              Sech    panamanian pop  176      70            75        -5   \n",
              "37        Ed Sheeran               pop  152      82            72        -5   \n",
              "38    Jonas Brothers          boy band  138      73            84        -5   \n",
              "39              Lauv         dance pop   95      56            81        -6   \n",
              "40              Kygo               edm  104      68            69        -7   \n",
              "41      Taylor Swift         dance pop   85      68            77        -6   \n",
              "42         Lady Gaga         dance pop   96      39            57        -6   \n",
              "43            Khalid               pop  136      40            90        -9   \n",
              "44           ROSALÍA    r&b en espanol   98      69            88        -4   \n",
              "45        Marshmello           brostep   88      62            66        -2   \n",
              "46         Nicky Jam             latin  176      75            67        -4   \n",
              "47        Marshmello           brostep  100      79            69        -3   \n",
              "48  The Chainsmokers               edm  104      70            59        -6   \n",
              "49        Ed Sheeran               pop   95      79            75        -6   \n",
              "\n",
              "    Liveness  Valence.  Length.  Acousticness..  Speechiness.  Popularity  \n",
              "0          8        75      191               4             3          79  \n",
              "1          8        61      302               8             9          92  \n",
              "2         16        70      186              12            46          85  \n",
              "3          8        55      198              12            19          86  \n",
              "4         11        18      175              45             7          94  \n",
              "5          9        84      220               9             4          84  \n",
              "6          7        23      131               2            29          92  \n",
              "7          8        35      202              15             9          90  \n",
              "8         11        64      157               5            10          87  \n",
              "9         10        56      194              33            38          95  \n",
              "10        24        24      251              60            31          93  \n",
              "11        15        38      185              28             7          86  \n",
              "12        11        45      182              75             3          88  \n",
              "13         6        76      288               7            20          87  \n",
              "14        12        10      205              10             5          92  \n",
              "15        16        14      261              12            15          82  \n",
              "16        11        43      243              15            32          90  \n",
              "17         7        91      158              56             5          91  \n",
              "18        14        50      161              18             8          88  \n",
              "19        12        41      173              11            11          91  \n",
              "20         7        63      153               4             3          91  \n",
              "21        12        48      115              34             8          91  \n",
              "22         9        58      309              14             7          83  \n",
              "23        44        80      266              36             4          91  \n",
              "24        12        68      195              25            30          89  \n",
              "25        13        87      191              49             6          70  \n",
              "26        18        54      210              69            10          83  \n",
              "27        19        40      213              37             3          89  \n",
              "28         6        66      193              11             6          91  \n",
              "29        36        94      222               3            25          89  \n",
              "30        10        36      210              12             4          84  \n",
              "31         9        33      179              59            33          89  \n",
              "32         9        68      176              22            28          89  \n",
              "33        13        18      200               2            15          89  \n",
              "34        32        39      224              19             6          89  \n",
              "35        14        32      164              18             6          89  \n",
              "36        11        62      226              14            34          91  \n",
              "37        36        91      162              13             5          87  \n",
              "38        11        95      181               4             6          80  \n",
              "39         6        68      199              48             7          78  \n",
              "40        10        40      228               2             3          88  \n",
              "41         7        73      171               1             5          90  \n",
              "42        23        32      216              37             3          87  \n",
              "43         6        35      198               5            13          84  \n",
              "44         5        75      162              39            12          88  \n",
              "45        58        44      182               7             5          88  \n",
              "46         8        80      202              24             6          88  \n",
              "47        17        67      214              19             5          88  \n",
              "48        41        50      218              23             3          88  \n",
              "49         7        61      206              21            12          82  "
            ],
            "text/html": [
              "\n",
              "  <div id=\"df-f5b10872-7c06-4766-858f-f0dd4c44bb1f\">\n",
              "    <div class=\"colab-df-container\">\n",
              "      <div>\n",
              "<style scoped>\n",
              "    .dataframe tbody tr th:only-of-type {\n",
              "        vertical-align: middle;\n",
              "    }\n",
              "\n",
              "    .dataframe tbody tr th {\n",
              "        vertical-align: top;\n",
              "    }\n",
              "\n",
              "    .dataframe thead th {\n",
              "        text-align: right;\n",
              "    }\n",
              "</style>\n",
              "<table border=\"1\" class=\"dataframe\">\n",
              "  <thead>\n",
              "    <tr style=\"text-align: right;\">\n",
              "      <th></th>\n",
              "      <th>Artist.Name</th>\n",
              "      <th>Genre</th>\n",
              "      <th>BPM</th>\n",
              "      <th>Energy</th>\n",
              "      <th>Danceability</th>\n",
              "      <th>Loudness</th>\n",
              "      <th>Liveness</th>\n",
              "      <th>Valence.</th>\n",
              "      <th>Length.</th>\n",
              "      <th>Acousticness..</th>\n",
              "      <th>Speechiness.</th>\n",
              "      <th>Popularity</th>\n",
              "    </tr>\n",
              "  </thead>\n",
              "  <tbody>\n",
              "    <tr>\n",
              "      <th>0</th>\n",
              "      <td>Shawn Mendes</td>\n",
              "      <td>canadian pop</td>\n",
              "      <td>117</td>\n",
              "      <td>55</td>\n",
              "      <td>76</td>\n",
              "      <td>-6</td>\n",
              "      <td>8</td>\n",
              "      <td>75</td>\n",
              "      <td>191</td>\n",
              "      <td>4</td>\n",
              "      <td>3</td>\n",
              "      <td>79</td>\n",
              "    </tr>\n",
              "    <tr>\n",
              "      <th>1</th>\n",
              "      <td>Anuel AA</td>\n",
              "      <td>reggaeton flow</td>\n",
              "      <td>105</td>\n",
              "      <td>81</td>\n",
              "      <td>79</td>\n",
              "      <td>-4</td>\n",
              "      <td>8</td>\n",
              "      <td>61</td>\n",
              "      <td>302</td>\n",
              "      <td>8</td>\n",
              "      <td>9</td>\n",
              "      <td>92</td>\n",
              "    </tr>\n",
              "    <tr>\n",
              "      <th>2</th>\n",
              "      <td>Ariana Grande</td>\n",
              "      <td>dance pop</td>\n",
              "      <td>190</td>\n",
              "      <td>80</td>\n",
              "      <td>40</td>\n",
              "      <td>-4</td>\n",
              "      <td>16</td>\n",
              "      <td>70</td>\n",
              "      <td>186</td>\n",
              "      <td>12</td>\n",
              "      <td>46</td>\n",
              "      <td>85</td>\n",
              "    </tr>\n",
              "    <tr>\n",
              "      <th>3</th>\n",
              "      <td>Ed Sheeran</td>\n",
              "      <td>pop</td>\n",
              "      <td>93</td>\n",
              "      <td>65</td>\n",
              "      <td>64</td>\n",
              "      <td>-8</td>\n",
              "      <td>8</td>\n",
              "      <td>55</td>\n",
              "      <td>198</td>\n",
              "      <td>12</td>\n",
              "      <td>19</td>\n",
              "      <td>86</td>\n",
              "    </tr>\n",
              "    <tr>\n",
              "      <th>4</th>\n",
              "      <td>Post Malone</td>\n",
              "      <td>dfw rap</td>\n",
              "      <td>150</td>\n",
              "      <td>65</td>\n",
              "      <td>58</td>\n",
              "      <td>-4</td>\n",
              "      <td>11</td>\n",
              "      <td>18</td>\n",
              "      <td>175</td>\n",
              "      <td>45</td>\n",
              "      <td>7</td>\n",
              "      <td>94</td>\n",
              "    </tr>\n",
              "    <tr>\n",
              "      <th>5</th>\n",
              "      <td>Ed Sheeran</td>\n",
              "      <td>pop</td>\n",
              "      <td>102</td>\n",
              "      <td>68</td>\n",
              "      <td>80</td>\n",
              "      <td>-5</td>\n",
              "      <td>9</td>\n",
              "      <td>84</td>\n",
              "      <td>220</td>\n",
              "      <td>9</td>\n",
              "      <td>4</td>\n",
              "      <td>84</td>\n",
              "    </tr>\n",
              "    <tr>\n",
              "      <th>6</th>\n",
              "      <td>Lil Tecca</td>\n",
              "      <td>trap music</td>\n",
              "      <td>180</td>\n",
              "      <td>64</td>\n",
              "      <td>75</td>\n",
              "      <td>-6</td>\n",
              "      <td>7</td>\n",
              "      <td>23</td>\n",
              "      <td>131</td>\n",
              "      <td>2</td>\n",
              "      <td>29</td>\n",
              "      <td>92</td>\n",
              "    </tr>\n",
              "    <tr>\n",
              "      <th>7</th>\n",
              "      <td>Sam Smith</td>\n",
              "      <td>pop</td>\n",
              "      <td>111</td>\n",
              "      <td>68</td>\n",
              "      <td>48</td>\n",
              "      <td>-5</td>\n",
              "      <td>8</td>\n",
              "      <td>35</td>\n",
              "      <td>202</td>\n",
              "      <td>15</td>\n",
              "      <td>9</td>\n",
              "      <td>90</td>\n",
              "    </tr>\n",
              "    <tr>\n",
              "      <th>8</th>\n",
              "      <td>Lil Nas X</td>\n",
              "      <td>country rap</td>\n",
              "      <td>136</td>\n",
              "      <td>62</td>\n",
              "      <td>88</td>\n",
              "      <td>-6</td>\n",
              "      <td>11</td>\n",
              "      <td>64</td>\n",
              "      <td>157</td>\n",
              "      <td>5</td>\n",
              "      <td>10</td>\n",
              "      <td>87</td>\n",
              "    </tr>\n",
              "    <tr>\n",
              "      <th>9</th>\n",
              "      <td>Billie Eilish</td>\n",
              "      <td>electropop</td>\n",
              "      <td>135</td>\n",
              "      <td>43</td>\n",
              "      <td>70</td>\n",
              "      <td>-11</td>\n",
              "      <td>10</td>\n",
              "      <td>56</td>\n",
              "      <td>194</td>\n",
              "      <td>33</td>\n",
              "      <td>38</td>\n",
              "      <td>95</td>\n",
              "    </tr>\n",
              "    <tr>\n",
              "      <th>10</th>\n",
              "      <td>Bad Bunny</td>\n",
              "      <td>reggaeton</td>\n",
              "      <td>176</td>\n",
              "      <td>62</td>\n",
              "      <td>61</td>\n",
              "      <td>-5</td>\n",
              "      <td>24</td>\n",
              "      <td>24</td>\n",
              "      <td>251</td>\n",
              "      <td>60</td>\n",
              "      <td>31</td>\n",
              "      <td>93</td>\n",
              "    </tr>\n",
              "    <tr>\n",
              "      <th>11</th>\n",
              "      <td>DJ Snake</td>\n",
              "      <td>dance pop</td>\n",
              "      <td>96</td>\n",
              "      <td>71</td>\n",
              "      <td>82</td>\n",
              "      <td>-4</td>\n",
              "      <td>15</td>\n",
              "      <td>38</td>\n",
              "      <td>185</td>\n",
              "      <td>28</td>\n",
              "      <td>7</td>\n",
              "      <td>86</td>\n",
              "    </tr>\n",
              "    <tr>\n",
              "      <th>12</th>\n",
              "      <td>Lewis Capaldi</td>\n",
              "      <td>pop</td>\n",
              "      <td>110</td>\n",
              "      <td>41</td>\n",
              "      <td>50</td>\n",
              "      <td>-6</td>\n",
              "      <td>11</td>\n",
              "      <td>45</td>\n",
              "      <td>182</td>\n",
              "      <td>75</td>\n",
              "      <td>3</td>\n",
              "      <td>88</td>\n",
              "    </tr>\n",
              "    <tr>\n",
              "      <th>13</th>\n",
              "      <td>Sech</td>\n",
              "      <td>panamanian pop</td>\n",
              "      <td>176</td>\n",
              "      <td>79</td>\n",
              "      <td>73</td>\n",
              "      <td>-2</td>\n",
              "      <td>6</td>\n",
              "      <td>76</td>\n",
              "      <td>288</td>\n",
              "      <td>7</td>\n",
              "      <td>20</td>\n",
              "      <td>87</td>\n",
              "    </tr>\n",
              "    <tr>\n",
              "      <th>14</th>\n",
              "      <td>Drake</td>\n",
              "      <td>canadian hip hop</td>\n",
              "      <td>101</td>\n",
              "      <td>50</td>\n",
              "      <td>83</td>\n",
              "      <td>-4</td>\n",
              "      <td>12</td>\n",
              "      <td>10</td>\n",
              "      <td>205</td>\n",
              "      <td>10</td>\n",
              "      <td>5</td>\n",
              "      <td>92</td>\n",
              "    </tr>\n",
              "    <tr>\n",
              "      <th>15</th>\n",
              "      <td>Chris Brown</td>\n",
              "      <td>dance pop</td>\n",
              "      <td>93</td>\n",
              "      <td>45</td>\n",
              "      <td>70</td>\n",
              "      <td>-7</td>\n",
              "      <td>16</td>\n",
              "      <td>14</td>\n",
              "      <td>261</td>\n",
              "      <td>12</td>\n",
              "      <td>15</td>\n",
              "      <td>82</td>\n",
              "    </tr>\n",
              "    <tr>\n",
              "      <th>16</th>\n",
              "      <td>J Balvin</td>\n",
              "      <td>latin</td>\n",
              "      <td>176</td>\n",
              "      <td>65</td>\n",
              "      <td>75</td>\n",
              "      <td>-6</td>\n",
              "      <td>11</td>\n",
              "      <td>43</td>\n",
              "      <td>243</td>\n",
              "      <td>15</td>\n",
              "      <td>32</td>\n",
              "      <td>90</td>\n",
              "    </tr>\n",
              "    <tr>\n",
              "      <th>17</th>\n",
              "      <td>Post Malone</td>\n",
              "      <td>dfw rap</td>\n",
              "      <td>90</td>\n",
              "      <td>48</td>\n",
              "      <td>76</td>\n",
              "      <td>-6</td>\n",
              "      <td>7</td>\n",
              "      <td>91</td>\n",
              "      <td>158</td>\n",
              "      <td>56</td>\n",
              "      <td>5</td>\n",
              "      <td>91</td>\n",
              "    </tr>\n",
              "    <tr>\n",
              "      <th>18</th>\n",
              "      <td>Y2K</td>\n",
              "      <td>canadian hip hop</td>\n",
              "      <td>130</td>\n",
              "      <td>39</td>\n",
              "      <td>84</td>\n",
              "      <td>-8</td>\n",
              "      <td>14</td>\n",
              "      <td>50</td>\n",
              "      <td>161</td>\n",
              "      <td>18</td>\n",
              "      <td>8</td>\n",
              "      <td>88</td>\n",
              "    </tr>\n",
              "    <tr>\n",
              "      <th>19</th>\n",
              "      <td>Lizzo</td>\n",
              "      <td>escape room</td>\n",
              "      <td>158</td>\n",
              "      <td>62</td>\n",
              "      <td>72</td>\n",
              "      <td>-3</td>\n",
              "      <td>12</td>\n",
              "      <td>41</td>\n",
              "      <td>173</td>\n",
              "      <td>11</td>\n",
              "      <td>11</td>\n",
              "      <td>91</td>\n",
              "    </tr>\n",
              "    <tr>\n",
              "      <th>20</th>\n",
              "      <td>MEDUZA</td>\n",
              "      <td>pop house</td>\n",
              "      <td>124</td>\n",
              "      <td>74</td>\n",
              "      <td>68</td>\n",
              "      <td>-7</td>\n",
              "      <td>7</td>\n",
              "      <td>63</td>\n",
              "      <td>153</td>\n",
              "      <td>4</td>\n",
              "      <td>3</td>\n",
              "      <td>91</td>\n",
              "    </tr>\n",
              "    <tr>\n",
              "      <th>21</th>\n",
              "      <td>Lil Nas X</td>\n",
              "      <td>country rap</td>\n",
              "      <td>154</td>\n",
              "      <td>59</td>\n",
              "      <td>70</td>\n",
              "      <td>-6</td>\n",
              "      <td>12</td>\n",
              "      <td>48</td>\n",
              "      <td>115</td>\n",
              "      <td>34</td>\n",
              "      <td>8</td>\n",
              "      <td>91</td>\n",
              "    </tr>\n",
              "    <tr>\n",
              "      <th>22</th>\n",
              "      <td>Jhay Cortez</td>\n",
              "      <td>reggaeton flow</td>\n",
              "      <td>92</td>\n",
              "      <td>79</td>\n",
              "      <td>81</td>\n",
              "      <td>-4</td>\n",
              "      <td>9</td>\n",
              "      <td>58</td>\n",
              "      <td>309</td>\n",
              "      <td>14</td>\n",
              "      <td>7</td>\n",
              "      <td>83</td>\n",
              "    </tr>\n",
              "    <tr>\n",
              "      <th>23</th>\n",
              "      <td>Lunay</td>\n",
              "      <td>latin</td>\n",
              "      <td>92</td>\n",
              "      <td>78</td>\n",
              "      <td>80</td>\n",
              "      <td>-4</td>\n",
              "      <td>44</td>\n",
              "      <td>80</td>\n",
              "      <td>266</td>\n",
              "      <td>36</td>\n",
              "      <td>4</td>\n",
              "      <td>91</td>\n",
              "    </tr>\n",
              "    <tr>\n",
              "      <th>24</th>\n",
              "      <td>Billie Eilish</td>\n",
              "      <td>electropop</td>\n",
              "      <td>135</td>\n",
              "      <td>45</td>\n",
              "      <td>67</td>\n",
              "      <td>-11</td>\n",
              "      <td>12</td>\n",
              "      <td>68</td>\n",
              "      <td>195</td>\n",
              "      <td>25</td>\n",
              "      <td>30</td>\n",
              "      <td>89</td>\n",
              "    </tr>\n",
              "    <tr>\n",
              "      <th>25</th>\n",
              "      <td>Shawn Mendes</td>\n",
              "      <td>canadian pop</td>\n",
              "      <td>124</td>\n",
              "      <td>82</td>\n",
              "      <td>69</td>\n",
              "      <td>-4</td>\n",
              "      <td>13</td>\n",
              "      <td>87</td>\n",
              "      <td>191</td>\n",
              "      <td>49</td>\n",
              "      <td>6</td>\n",
              "      <td>70</td>\n",
              "    </tr>\n",
              "    <tr>\n",
              "      <th>26</th>\n",
              "      <td>Tones and I</td>\n",
              "      <td>australian pop</td>\n",
              "      <td>98</td>\n",
              "      <td>59</td>\n",
              "      <td>82</td>\n",
              "      <td>-6</td>\n",
              "      <td>18</td>\n",
              "      <td>54</td>\n",
              "      <td>210</td>\n",
              "      <td>69</td>\n",
              "      <td>10</td>\n",
              "      <td>83</td>\n",
              "    </tr>\n",
              "    <tr>\n",
              "      <th>27</th>\n",
              "      <td>Ali Gatie</td>\n",
              "      <td>canadian hip hop</td>\n",
              "      <td>96</td>\n",
              "      <td>46</td>\n",
              "      <td>73</td>\n",
              "      <td>-7</td>\n",
              "      <td>19</td>\n",
              "      <td>40</td>\n",
              "      <td>213</td>\n",
              "      <td>37</td>\n",
              "      <td>3</td>\n",
              "      <td>89</td>\n",
              "    </tr>\n",
              "    <tr>\n",
              "      <th>28</th>\n",
              "      <td>Daddy Yankee</td>\n",
              "      <td>latin</td>\n",
              "      <td>94</td>\n",
              "      <td>86</td>\n",
              "      <td>74</td>\n",
              "      <td>-3</td>\n",
              "      <td>6</td>\n",
              "      <td>66</td>\n",
              "      <td>193</td>\n",
              "      <td>11</td>\n",
              "      <td>6</td>\n",
              "      <td>91</td>\n",
              "    </tr>\n",
              "    <tr>\n",
              "      <th>29</th>\n",
              "      <td>J Balvin</td>\n",
              "      <td>latin</td>\n",
              "      <td>93</td>\n",
              "      <td>79</td>\n",
              "      <td>64</td>\n",
              "      <td>-4</td>\n",
              "      <td>36</td>\n",
              "      <td>94</td>\n",
              "      <td>222</td>\n",
              "      <td>3</td>\n",
              "      <td>25</td>\n",
              "      <td>89</td>\n",
              "    </tr>\n",
              "    <tr>\n",
              "      <th>30</th>\n",
              "      <td>The Chainsmokers</td>\n",
              "      <td>edm</td>\n",
              "      <td>85</td>\n",
              "      <td>51</td>\n",
              "      <td>29</td>\n",
              "      <td>-8</td>\n",
              "      <td>10</td>\n",
              "      <td>36</td>\n",
              "      <td>210</td>\n",
              "      <td>12</td>\n",
              "      <td>4</td>\n",
              "      <td>84</td>\n",
              "    </tr>\n",
              "    <tr>\n",
              "      <th>31</th>\n",
              "      <td>Ariana Grande</td>\n",
              "      <td>dance pop</td>\n",
              "      <td>140</td>\n",
              "      <td>32</td>\n",
              "      <td>78</td>\n",
              "      <td>-11</td>\n",
              "      <td>9</td>\n",
              "      <td>33</td>\n",
              "      <td>179</td>\n",
              "      <td>59</td>\n",
              "      <td>33</td>\n",
              "      <td>89</td>\n",
              "    </tr>\n",
              "    <tr>\n",
              "      <th>32</th>\n",
              "      <td>Maluma</td>\n",
              "      <td>reggaeton</td>\n",
              "      <td>96</td>\n",
              "      <td>71</td>\n",
              "      <td>78</td>\n",
              "      <td>-5</td>\n",
              "      <td>9</td>\n",
              "      <td>68</td>\n",
              "      <td>176</td>\n",
              "      <td>22</td>\n",
              "      <td>28</td>\n",
              "      <td>89</td>\n",
              "    </tr>\n",
              "    <tr>\n",
              "      <th>33</th>\n",
              "      <td>Young Thug</td>\n",
              "      <td>atl hip hop</td>\n",
              "      <td>98</td>\n",
              "      <td>59</td>\n",
              "      <td>80</td>\n",
              "      <td>-7</td>\n",
              "      <td>13</td>\n",
              "      <td>18</td>\n",
              "      <td>200</td>\n",
              "      <td>2</td>\n",
              "      <td>15</td>\n",
              "      <td>89</td>\n",
              "    </tr>\n",
              "    <tr>\n",
              "      <th>34</th>\n",
              "      <td>Katy Perry</td>\n",
              "      <td>dance pop</td>\n",
              "      <td>100</td>\n",
              "      <td>88</td>\n",
              "      <td>77</td>\n",
              "      <td>-5</td>\n",
              "      <td>32</td>\n",
              "      <td>39</td>\n",
              "      <td>224</td>\n",
              "      <td>19</td>\n",
              "      <td>6</td>\n",
              "      <td>89</td>\n",
              "    </tr>\n",
              "    <tr>\n",
              "      <th>35</th>\n",
              "      <td>Martin Garrix</td>\n",
              "      <td>big room</td>\n",
              "      <td>114</td>\n",
              "      <td>72</td>\n",
              "      <td>66</td>\n",
              "      <td>-7</td>\n",
              "      <td>14</td>\n",
              "      <td>32</td>\n",
              "      <td>164</td>\n",
              "      <td>18</td>\n",
              "      <td>6</td>\n",
              "      <td>89</td>\n",
              "    </tr>\n",
              "    <tr>\n",
              "      <th>36</th>\n",
              "      <td>Sech</td>\n",
              "      <td>panamanian pop</td>\n",
              "      <td>176</td>\n",
              "      <td>70</td>\n",
              "      <td>75</td>\n",
              "      <td>-5</td>\n",
              "      <td>11</td>\n",
              "      <td>62</td>\n",
              "      <td>226</td>\n",
              "      <td>14</td>\n",
              "      <td>34</td>\n",
              "      <td>91</td>\n",
              "    </tr>\n",
              "    <tr>\n",
              "      <th>37</th>\n",
              "      <td>Ed Sheeran</td>\n",
              "      <td>pop</td>\n",
              "      <td>152</td>\n",
              "      <td>82</td>\n",
              "      <td>72</td>\n",
              "      <td>-5</td>\n",
              "      <td>36</td>\n",
              "      <td>91</td>\n",
              "      <td>162</td>\n",
              "      <td>13</td>\n",
              "      <td>5</td>\n",
              "      <td>87</td>\n",
              "    </tr>\n",
              "    <tr>\n",
              "      <th>38</th>\n",
              "      <td>Jonas Brothers</td>\n",
              "      <td>boy band</td>\n",
              "      <td>138</td>\n",
              "      <td>73</td>\n",
              "      <td>84</td>\n",
              "      <td>-5</td>\n",
              "      <td>11</td>\n",
              "      <td>95</td>\n",
              "      <td>181</td>\n",
              "      <td>4</td>\n",
              "      <td>6</td>\n",
              "      <td>80</td>\n",
              "    </tr>\n",
              "    <tr>\n",
              "      <th>39</th>\n",
              "      <td>Lauv</td>\n",
              "      <td>dance pop</td>\n",
              "      <td>95</td>\n",
              "      <td>56</td>\n",
              "      <td>81</td>\n",
              "      <td>-6</td>\n",
              "      <td>6</td>\n",
              "      <td>68</td>\n",
              "      <td>199</td>\n",
              "      <td>48</td>\n",
              "      <td>7</td>\n",
              "      <td>78</td>\n",
              "    </tr>\n",
              "    <tr>\n",
              "      <th>40</th>\n",
              "      <td>Kygo</td>\n",
              "      <td>edm</td>\n",
              "      <td>104</td>\n",
              "      <td>68</td>\n",
              "      <td>69</td>\n",
              "      <td>-7</td>\n",
              "      <td>10</td>\n",
              "      <td>40</td>\n",
              "      <td>228</td>\n",
              "      <td>2</td>\n",
              "      <td>3</td>\n",
              "      <td>88</td>\n",
              "    </tr>\n",
              "    <tr>\n",
              "      <th>41</th>\n",
              "      <td>Taylor Swift</td>\n",
              "      <td>dance pop</td>\n",
              "      <td>85</td>\n",
              "      <td>68</td>\n",
              "      <td>77</td>\n",
              "      <td>-6</td>\n",
              "      <td>7</td>\n",
              "      <td>73</td>\n",
              "      <td>171</td>\n",
              "      <td>1</td>\n",
              "      <td>5</td>\n",
              "      <td>90</td>\n",
              "    </tr>\n",
              "    <tr>\n",
              "      <th>42</th>\n",
              "      <td>Lady Gaga</td>\n",
              "      <td>dance pop</td>\n",
              "      <td>96</td>\n",
              "      <td>39</td>\n",
              "      <td>57</td>\n",
              "      <td>-6</td>\n",
              "      <td>23</td>\n",
              "      <td>32</td>\n",
              "      <td>216</td>\n",
              "      <td>37</td>\n",
              "      <td>3</td>\n",
              "      <td>87</td>\n",
              "    </tr>\n",
              "    <tr>\n",
              "      <th>43</th>\n",
              "      <td>Khalid</td>\n",
              "      <td>pop</td>\n",
              "      <td>136</td>\n",
              "      <td>40</td>\n",
              "      <td>90</td>\n",
              "      <td>-9</td>\n",
              "      <td>6</td>\n",
              "      <td>35</td>\n",
              "      <td>198</td>\n",
              "      <td>5</td>\n",
              "      <td>13</td>\n",
              "      <td>84</td>\n",
              "    </tr>\n",
              "    <tr>\n",
              "      <th>44</th>\n",
              "      <td>ROSALÍA</td>\n",
              "      <td>r&amp;b en espanol</td>\n",
              "      <td>98</td>\n",
              "      <td>69</td>\n",
              "      <td>88</td>\n",
              "      <td>-4</td>\n",
              "      <td>5</td>\n",
              "      <td>75</td>\n",
              "      <td>162</td>\n",
              "      <td>39</td>\n",
              "      <td>12</td>\n",
              "      <td>88</td>\n",
              "    </tr>\n",
              "    <tr>\n",
              "      <th>45</th>\n",
              "      <td>Marshmello</td>\n",
              "      <td>brostep</td>\n",
              "      <td>88</td>\n",
              "      <td>62</td>\n",
              "      <td>66</td>\n",
              "      <td>-2</td>\n",
              "      <td>58</td>\n",
              "      <td>44</td>\n",
              "      <td>182</td>\n",
              "      <td>7</td>\n",
              "      <td>5</td>\n",
              "      <td>88</td>\n",
              "    </tr>\n",
              "    <tr>\n",
              "      <th>46</th>\n",
              "      <td>Nicky Jam</td>\n",
              "      <td>latin</td>\n",
              "      <td>176</td>\n",
              "      <td>75</td>\n",
              "      <td>67</td>\n",
              "      <td>-4</td>\n",
              "      <td>8</td>\n",
              "      <td>80</td>\n",
              "      <td>202</td>\n",
              "      <td>24</td>\n",
              "      <td>6</td>\n",
              "      <td>88</td>\n",
              "    </tr>\n",
              "    <tr>\n",
              "      <th>47</th>\n",
              "      <td>Marshmello</td>\n",
              "      <td>brostep</td>\n",
              "      <td>100</td>\n",
              "      <td>79</td>\n",
              "      <td>69</td>\n",
              "      <td>-3</td>\n",
              "      <td>17</td>\n",
              "      <td>67</td>\n",
              "      <td>214</td>\n",
              "      <td>19</td>\n",
              "      <td>5</td>\n",
              "      <td>88</td>\n",
              "    </tr>\n",
              "    <tr>\n",
              "      <th>48</th>\n",
              "      <td>The Chainsmokers</td>\n",
              "      <td>edm</td>\n",
              "      <td>104</td>\n",
              "      <td>70</td>\n",
              "      <td>59</td>\n",
              "      <td>-6</td>\n",
              "      <td>41</td>\n",
              "      <td>50</td>\n",
              "      <td>218</td>\n",
              "      <td>23</td>\n",
              "      <td>3</td>\n",
              "      <td>88</td>\n",
              "    </tr>\n",
              "    <tr>\n",
              "      <th>49</th>\n",
              "      <td>Ed Sheeran</td>\n",
              "      <td>pop</td>\n",
              "      <td>95</td>\n",
              "      <td>79</td>\n",
              "      <td>75</td>\n",
              "      <td>-6</td>\n",
              "      <td>7</td>\n",
              "      <td>61</td>\n",
              "      <td>206</td>\n",
              "      <td>21</td>\n",
              "      <td>12</td>\n",
              "      <td>82</td>\n",
              "    </tr>\n",
              "  </tbody>\n",
              "</table>\n",
              "</div>\n",
              "      <button class=\"colab-df-convert\" onclick=\"convertToInteractive('df-f5b10872-7c06-4766-858f-f0dd4c44bb1f')\"\n",
              "              title=\"Convert this dataframe to an interactive table.\"\n",
              "              style=\"display:none;\">\n",
              "        \n",
              "  <svg xmlns=\"http://www.w3.org/2000/svg\" height=\"24px\"viewBox=\"0 0 24 24\"\n",
              "       width=\"24px\">\n",
              "    <path d=\"M0 0h24v24H0V0z\" fill=\"none\"/>\n",
              "    <path d=\"M18.56 5.44l.94 2.06.94-2.06 2.06-.94-2.06-.94-.94-2.06-.94 2.06-2.06.94zm-11 1L8.5 8.5l.94-2.06 2.06-.94-2.06-.94L8.5 2.5l-.94 2.06-2.06.94zm10 10l.94 2.06.94-2.06 2.06-.94-2.06-.94-.94-2.06-.94 2.06-2.06.94z\"/><path d=\"M17.41 7.96l-1.37-1.37c-.4-.4-.92-.59-1.43-.59-.52 0-1.04.2-1.43.59L10.3 9.45l-7.72 7.72c-.78.78-.78 2.05 0 2.83L4 21.41c.39.39.9.59 1.41.59.51 0 1.02-.2 1.41-.59l7.78-7.78 2.81-2.81c.8-.78.8-2.07 0-2.86zM5.41 20L4 18.59l7.72-7.72 1.47 1.35L5.41 20z\"/>\n",
              "  </svg>\n",
              "      </button>\n",
              "      \n",
              "  <style>\n",
              "    .colab-df-container {\n",
              "      display:flex;\n",
              "      flex-wrap:wrap;\n",
              "      gap: 12px;\n",
              "    }\n",
              "\n",
              "    .colab-df-convert {\n",
              "      background-color: #E8F0FE;\n",
              "      border: none;\n",
              "      border-radius: 50%;\n",
              "      cursor: pointer;\n",
              "      display: none;\n",
              "      fill: #1967D2;\n",
              "      height: 32px;\n",
              "      padding: 0 0 0 0;\n",
              "      width: 32px;\n",
              "    }\n",
              "\n",
              "    .colab-df-convert:hover {\n",
              "      background-color: #E2EBFA;\n",
              "      box-shadow: 0px 1px 2px rgba(60, 64, 67, 0.3), 0px 1px 3px 1px rgba(60, 64, 67, 0.15);\n",
              "      fill: #174EA6;\n",
              "    }\n",
              "\n",
              "    [theme=dark] .colab-df-convert {\n",
              "      background-color: #3B4455;\n",
              "      fill: #D2E3FC;\n",
              "    }\n",
              "\n",
              "    [theme=dark] .colab-df-convert:hover {\n",
              "      background-color: #434B5C;\n",
              "      box-shadow: 0px 1px 3px 1px rgba(0, 0, 0, 0.15);\n",
              "      filter: drop-shadow(0px 1px 2px rgba(0, 0, 0, 0.3));\n",
              "      fill: #FFFFFF;\n",
              "    }\n",
              "  </style>\n",
              "\n",
              "      <script>\n",
              "        const buttonEl =\n",
              "          document.querySelector('#df-f5b10872-7c06-4766-858f-f0dd4c44bb1f button.colab-df-convert');\n",
              "        buttonEl.style.display =\n",
              "          google.colab.kernel.accessAllowed ? 'block' : 'none';\n",
              "\n",
              "        async function convertToInteractive(key) {\n",
              "          const element = document.querySelector('#df-f5b10872-7c06-4766-858f-f0dd4c44bb1f');\n",
              "          const dataTable =\n",
              "            await google.colab.kernel.invokeFunction('convertToInteractive',\n",
              "                                                     [key], {});\n",
              "          if (!dataTable) return;\n",
              "\n",
              "          const docLinkHtml = 'Like what you see? Visit the ' +\n",
              "            '<a target=\"_blank\" href=https://colab.research.google.com/notebooks/data_table.ipynb>data table notebook</a>'\n",
              "            + ' to learn more about interactive tables.';\n",
              "          element.innerHTML = '';\n",
              "          dataTable['output_type'] = 'display_data';\n",
              "          await google.colab.output.renderOutput(dataTable, element);\n",
              "          const docLink = document.createElement('div');\n",
              "          docLink.innerHTML = docLinkHtml;\n",
              "          element.appendChild(docLink);\n",
              "        }\n",
              "      </script>\n",
              "    </div>\n",
              "  </div>\n",
              "  "
            ]
          },
          "metadata": {},
          "execution_count": 90
        }
      ]
    },
    {
      "cell_type": "markdown",
      "source": [
        "# Gráficos"
      ],
      "metadata": {
        "id": "Q4ZBe69azIDy"
      }
    },
    {
      "cell_type": "code",
      "source": [
        "df.hist(figsize=(20,15));"
      ],
      "metadata": {
        "colab": {
          "base_uri": "https://localhost:8080/",
          "height": 739
        },
        "id": "9Ag7ZxQQWs0n",
        "outputId": "4fed3457-9512-461c-eeb7-68b806bfca6d"
      },
      "execution_count": null,
      "outputs": [
        {
          "output_type": "display_data",
          "data": {
            "text/plain": [
              "<Figure size 1440x1080 with 12 Axes>"
            ],
            "image/png": "[encoded data removed]"
          },
          "metadata": {
            "needs_background": "light"
          }
        }
      ]
    },
    {
      "cell_type": "code",
      "source": [
        "# Variação de popularidade por gênero musical\n",
        "plt.figure(figsize=(20,10))\n",
        "plt.title('Variação popularidade por gênero musical', fontsize=20)\n",
        "sns.histplot(data=df, x=\"Popularity\", hue=\"Genre\", multiple=\"stack\")"
      ],
      "metadata": {
        "colab": {
          "base_uri": "https://localhost:8080/",
          "height": 544
        },
        "id": "e-FqZFlBXueu",
        "outputId": "72d0b934-3682-4a61-ece0-663164779437"
      },
      "execution_count": null,
      "outputs": [
        {
          "output_type": "execute_result",
          "data": {
            "text/plain": [
              "<matplotlib.axes._subplots.AxesSubplot at 0x7f8d5e5d0ed0>"
            ]
          },
          "metadata": {},
          "execution_count": 69
        },
        {
          "output_type": "display_data",
          "data": {
            "text/plain": [
              "<Figure size 1440x720 with 1 Axes>"
            ],
            "image/png": "[encoded data removed]"
          },
          "metadata": {
            "needs_background": "light"
          }
        }
      ]
    },
    {
      "cell_type": "code",
      "source": [
        "# Número de músicas por gênero\n",
        "fig = plt.figure(figsize=(15,10))\n",
        "plt.title('Músicas por gênero',fontsize=20)\n",
        "sns.countplot(y='Genre', data=df,)"
      ],
      "metadata": {
        "colab": {
          "base_uri": "https://localhost:8080/",
          "height": 646
        },
        "id": "TptLO2dYW1-d",
        "outputId": "e7f2494d-d987-43ac-9f7f-7e05b42668a2"
      },
      "execution_count": null,
      "outputs": [
        {
          "output_type": "execute_result",
          "data": {
            "text/plain": [
              "<matplotlib.axes._subplots.AxesSubplot at 0x7f8d5e278410>"
            ]
          },
          "metadata": {},
          "execution_count": 78
        },
        {
          "output_type": "display_data",
          "data": {
            "text/plain": [
              "<Figure size 1080x720 with 1 Axes>"
            ],
            "image/png": "[encoded data removed]"
          },
          "metadata": {
            "needs_background": "light"
          }
        }
      ]
    },
    {
      "cell_type": "code",
      "source": [
        "# Número de músicas por artista\n",
        "fig = plt.figure(figsize=(15,10))\n",
        "plt.title('Músicas por Artista',fontsize=20)\n",
        "sns.countplot(y='Artist.Name', data=df)"
      ],
      "metadata": {
        "colab": {
          "base_uri": "https://localhost:8080/",
          "height": 646
        },
        "id": "t5tTKtiF2h56",
        "outputId": "9a948d05-a5d0-4a7e-d067-ed59e0c49ae1"
      },
      "execution_count": 112,
      "outputs": [
        {
          "output_type": "execute_result",
          "data": {
            "text/plain": [
              "<matplotlib.axes._subplots.AxesSubplot at 0x7f8d5da43f10>"
            ]
          },
          "metadata": {},
          "execution_count": 112
        },
        {
          "output_type": "display_data",
          "data": {
            "text/plain": [
              "<Figure size 1080x720 with 1 Axes>"
            ],
            "image/png": "[encoded data removed]"
          },
          "metadata": {
            "needs_background": "light"
          }
        }
      ]
    },
    {
      "cell_type": "markdown",
      "source": [
        "\n",
        "É possível resumir os 21 gêneros diferentes em:\n",
        "- **pop** ( canadian pop, dance pop, pop, australian pop, boy band, pamanian pop, pop house )\n",
        "- **hip hop** ( atl hip hop, canadian hip hop)\n",
        "- **reggaeton** (latin, r&b en espanol, reggaeton flow,reggaeton)\n",
        "- **rap** ( trap music, dfw rap,country rap )\n",
        "- **eletronic** (brostep, electropop, edm, big room, escape room )\n",
        "\n"
      ],
      "metadata": {
        "id": "osHKxQW8bTgo"
      }
    },
    {
      "cell_type": "code",
      "source": [
        "# Deixando Gênero musical mais enxuto com 5 categorias: pop, hip hop, reggaeton, rap e eletronic\n",
        "\n",
        "genre_categories = np.where(df['Genre'].isin(['canadian pop', 'dance pop', 'pop', 'australian pop', 'boy band', 'panamanian pop', 'pop house']),'pop',\n",
        "      np.where(df['Genre'].isin(['atl hip hop', 'canadian hip hop']),'hip hop',\n",
        "      np.where(df['Genre'].isin(['latin', 'r&b en espanol', 'reggaeton flow','reggaeton']),'reggaeton',\n",
        "      np.where(df['Genre'].isin(['trap music', 'dfw rap','country rap']), 'rap', \n",
        "      np.where(df['Genre'].isin(['brostep', 'electropop', 'edm', 'big room', 'escape room']), 'eletronic', 'não citado')))))\n"
      ],
      "metadata": {
        "id": "x7mgBQgPRJ6n"
      },
      "execution_count": 163,
      "outputs": []
    },
    {
      "cell_type": "code",
      "source": [
        "print(genre_categories)"
      ],
      "metadata": {
        "colab": {
          "base_uri": "https://localhost:8080/"
        },
        "id": "ySEkLcTw731I",
        "outputId": "da54fa1d-7669-49a2-d284-8c744f0bece8"
      },
      "execution_count": 164,
      "outputs": [
        {
          "output_type": "stream",
          "name": "stdout",
          "text": [
            "['pop' 'reggaeton' 'pop' 'pop' 'rap' 'pop' 'rap' 'pop' 'rap' 'eletronic'\n",
            " 'reggaeton' 'pop' 'pop' 'pop' 'hip hop' 'pop' 'reggaeton' 'rap' 'hip hop'\n",
            " 'eletronic' 'pop' 'rap' 'reggaeton' 'reggaeton' 'eletronic' 'pop' 'pop'\n",
            " 'hip hop' 'reggaeton' 'reggaeton' 'eletronic' 'pop' 'reggaeton' 'hip hop'\n",
            " 'pop' 'eletronic' 'pop' 'pop' 'pop' 'pop' 'eletronic' 'pop' 'pop' 'pop'\n",
            " 'reggaeton' 'eletronic' 'reggaeton' 'eletronic' 'eletronic' 'pop']\n"
          ]
        }
      ]
    },
    {
      "cell_type": "code",
      "source": [
        "df['genre_categories'] = genre_categories"
      ],
      "metadata": {
        "id": "UivfvVaL8OqP"
      },
      "execution_count": 165,
      "outputs": []
    },
    {
      "cell_type": "code",
      "source": [
        "# Gênero por BPM\n",
        "sns.boxplot(data=df, x='BPM', y='genre_categories')\n",
        "\n",
        "plt.title('Boxplot de beats per minute por cada gênero musical')\n",
        "plt.show()"
      ],
      "metadata": {
        "id": "FMfjo3zh5ET1",
        "colab": {
          "base_uri": "https://localhost:8080/",
          "height": 295
        },
        "outputId": "f6d04761-4ceb-4707-86ec-c57ad5211a4a"
      },
      "execution_count": 166,
      "outputs": [
        {
          "output_type": "display_data",
          "data": {
            "text/plain": [
              "<Figure size 432x288 with 1 Axes>"
            ],
            "image/png": "[encoded data removed]"
          },
          "metadata": {
            "needs_background": "light"
          }
        }
      ]
    },
    {
      "cell_type": "code",
      "source": [
        "# Gênero por Energy\n",
        "sns.boxplot(data=df, x='Energy', y='genre_categories')\n",
        "\n",
        "plt.title('Boxplot de energy por cada gênero musical')\n",
        "plt.show()"
      ],
      "metadata": {
        "id": "z0qlWGhe97FD",
        "colab": {
          "base_uri": "https://localhost:8080/",
          "height": 295
        },
        "outputId": "c82f635f-b045-4745-dc05-e36f231c31b5"
      },
      "execution_count": 167,
      "outputs": [
        {
          "output_type": "display_data",
          "data": {
            "text/plain": [
              "<Figure size 432x288 with 1 Axes>"
            ],
            "image/png": "[encoded data removed]"
          },
          "metadata": {
            "needs_background": "light"
          }
        }
      ]
    },
    {
      "cell_type": "code",
      "source": [
        "# Gênero por Danceability\n",
        "sns.boxplot(data=df, x='Danceability', y='genre_categories')\n",
        "\n",
        "plt.title('Boxplot de Danceability por cada gênero musical')\n",
        "plt.show()"
      ],
      "metadata": {
        "id": "BTuOIbjO-B4A",
        "colab": {
          "base_uri": "https://localhost:8080/",
          "height": 295
        },
        "outputId": "608f404e-7e11-4e95-d799-de4734db440b"
      },
      "execution_count": 168,
      "outputs": [
        {
          "output_type": "display_data",
          "data": {
            "text/plain": [
              "<Figure size 432x288 with 1 Axes>"
            ],
            "image/png": "[encoded data removed]"
          },
          "metadata": {
            "needs_background": "light"
          }
        }
      ]
    },
    {
      "cell_type": "code",
      "source": [
        "# Gênero por Loudness\n",
        "sns.boxplot(data=df, x='Loudness', y='genre_categories')\n",
        "\n",
        "plt.title('Boxplot de Loudness por cada gênero musical')\n",
        "plt.show()"
      ],
      "metadata": {
        "id": "ffIkbkQZ-L6m",
        "colab": {
          "base_uri": "https://localhost:8080/",
          "height": 295
        },
        "outputId": "8d4febe2-9212-4d82-980c-ba4368e17278"
      },
      "execution_count": 169,
      "outputs": [
        {
          "output_type": "display_data",
          "data": {
            "text/plain": [
              "<Figure size 432x288 with 1 Axes>"
            ],
            "image/png": "[encoded data removed]"
          },
          "metadata": {
            "needs_background": "light"
          }
        }
      ]
    },
    {
      "cell_type": "code",
      "source": [
        "plt.figure(figsize=(10,6))\n",
        "sns.heatmap(df.corr(), annot=True)\n",
        "plt.title('Correlation heatmap')\n",
        "plt.show()    "
      ],
      "metadata": {
        "id": "5DIrjPb9-Zjs",
        "colab": {
          "base_uri": "https://localhost:8080/",
          "height": 452
        },
        "outputId": "99181e61-f20f-4f5e-fab5-1755db92cce5"
      },
      "execution_count": null,
      "outputs": [
        {
          "output_type": "display_data",
          "data": {
            "text/plain": [
              "<Figure size 720x432 with 2 Axes>"
            ],
            "image/png": "[encoded data removed]"
          },
          "metadata": {
            "needs_background": "light"
          }
        }
      ]
    },
    {
      "cell_type": "markdown",
      "source": [
        "# Preparando os dados para os modelos de Machine Learning"
      ],
      "metadata": {
        "id": "i6OF_hRbEWvj"
      }
    },
    {
      "cell_type": "markdown",
      "source": [
        "- Dados nomeados: Artistas, Músicas e Gêneros\n",
        "- Colunas: BPM, Energy, Danceability, Loudness, Liveness, Valence, Lenght, Acousticness, Speechiness\n",
        "- Target: Popularity"
      ],
      "metadata": {
        "id": "jSsa2VwLI5X1"
      }
    },
    {
      "cell_type": "code",
      "source": [
        "# Importando ferramentas\n",
        "\n",
        "from sklearn.model_selection import train_test_split"
      ],
      "metadata": {
        "id": "wmsfjTQeGngF"
      },
      "execution_count": 170,
      "outputs": []
    },
    {
      "cell_type": "code",
      "source": [
        "#Separação de features e target\n",
        "X = df.drop(columns='Popularity')\n",
        "y = df['Popularity']"
      ],
      "metadata": {
        "id": "xab2O_B-M-5-"
      },
      "execution_count": 171,
      "outputs": []
    },
    {
      "cell_type": "code",
      "source": [
        "#Separando em traino, validação e teste\n",
        "X_train, X_test, y_train, y_test = train_test_split(X, y, \n",
        "                                                    test_size=0.3,\n",
        "                                                    random_state=42)\n",
        "X_train, X_val, y_train, y_val = train_test_split(X_train, y_train, \n",
        "                                                    test_size=0.3,\n",
        "                                                    random_state=42)"
      ],
      "metadata": {
        "id": "SVQBoTn_NK-e"
      },
      "execution_count": 172,
      "outputs": []
    },
    {
      "cell_type": "code",
      "source": [
        "#Utilizando o Cross Validation\n",
        "from sklearn.model_selection import KFold, cross_val_score\n",
        "\n",
        "#Instanciando a validação cruzada\n",
        "cv = KFold(n_splits = 5, shuffle = True, random_state = 42)"
      ],
      "metadata": {
        "id": "8uvv5cGEuR2-"
      },
      "execution_count": 173,
      "outputs": []
    },
    {
      "cell_type": "code",
      "source": [
        "#Importando as bibliotecas para as métricas\n",
        "from sklearn.metrics import classification_report \n",
        "from sklearn.metrics import accuracy_score\n"
      ],
      "metadata": {
        "id": "Bk2Gt8E1PzOW"
      },
      "execution_count": 174,
      "outputs": []
    },
    {
      "cell_type": "markdown",
      "source": [
        "# Regressão Logística"
      ],
      "metadata": {
        "id": "b6LPLbtyQH8T"
      }
    },
    {
      "cell_type": "code",
      "source": [
        "#Importando a biblioteca de Regressão Logística\n",
        "from sklearn.linear_model import LogisticRegression"
      ],
      "metadata": {
        "id": "su3e1HM_tb4i"
      },
      "execution_count": 175,
      "outputs": []
    },
    {
      "cell_type": "code",
      "source": [
        "#Instanciando o modelo\n",
        "model_logistic = LogisticRegression(max_iter=1000)\n",
        "\n",
        "#Rodando o modelo\n",
        "val_score_logistic = cross_val_score(model_logistic, \n",
        "                            X, y, \n",
        "                            scoring='accuracy', \n",
        "                            cv=cv)\n",
        "\n",
        "print(val_score_logistic)"
      ],
      "metadata": {
        "colab": {
          "base_uri": "https://localhost:8080/"
        },
        "id": "ukh781KntiNN",
        "outputId": "a80172de-b7cc-4ff7-8d24-a31e9be5df72"
      },
      "execution_count": 178,
      "outputs": [
        {
          "output_type": "stream",
          "name": "stdout",
          "text": [
            "[nan nan nan nan nan]\n"
          ]
        },
        {
          "output_type": "stream",
          "name": "stderr",
          "text": [
            "/usr/local/lib/python3.7/dist-packages/sklearn/model_selection/_validation.py:372: FitFailedWarning: \n",
            "5 fits failed out of a total of 5.\n",
            "The score on these train-test partitions for these parameters will be set to nan.\n",
            "If these failures are not expected, you can try to debug them by setting error_score='raise'.\n",
            "\n",
            "Below are more details about the failures:\n",
            "--------------------------------------------------------------------------------\n",
            "4 fits failed with the following error:\n",
            "Traceback (most recent call last):\n",
            "  File \"/usr/local/lib/python3.7/dist-packages/sklearn/model_selection/_validation.py\", line 680, in _fit_and_score\n",
            "    estimator.fit(X_train, y_train, **fit_params)\n",
            "  File \"/usr/local/lib/python3.7/dist-packages/sklearn/linear_model/_logistic.py\", line 1514, in fit\n",
            "    accept_large_sparse=solver not in [\"liblinear\", \"sag\", \"saga\"],\n",
            "  File \"/usr/local/lib/python3.7/dist-packages/sklearn/base.py\", line 581, in _validate_data\n",
            "    X, y = check_X_y(X, y, **check_params)\n",
            "  File \"/usr/local/lib/python3.7/dist-packages/sklearn/utils/validation.py\", line 976, in check_X_y\n",
            "    estimator=estimator,\n",
            "  File \"/usr/local/lib/python3.7/dist-packages/sklearn/utils/validation.py\", line 746, in check_array\n",
            "    array = np.asarray(array, order=order, dtype=dtype)\n",
            "  File \"/usr/local/lib/python3.7/dist-packages/pandas/core/generic.py\", line 1993, in __array__\n",
            "    return np.asarray(self._values, dtype=dtype)\n",
            "ValueError: could not convert string to float: 'Senorita'\n",
            "\n",
            "--------------------------------------------------------------------------------\n",
            "1 fits failed with the following error:\n",
            "Traceback (most recent call last):\n",
            "  File \"/usr/local/lib/python3.7/dist-packages/sklearn/model_selection/_validation.py\", line 680, in _fit_and_score\n",
            "    estimator.fit(X_train, y_train, **fit_params)\n",
            "  File \"/usr/local/lib/python3.7/dist-packages/sklearn/linear_model/_logistic.py\", line 1514, in fit\n",
            "    accept_large_sparse=solver not in [\"liblinear\", \"sag\", \"saga\"],\n",
            "  File \"/usr/local/lib/python3.7/dist-packages/sklearn/base.py\", line 581, in _validate_data\n",
            "    X, y = check_X_y(X, y, **check_params)\n",
            "  File \"/usr/local/lib/python3.7/dist-packages/sklearn/utils/validation.py\", line 976, in check_X_y\n",
            "    estimator=estimator,\n",
            "  File \"/usr/local/lib/python3.7/dist-packages/sklearn/utils/validation.py\", line 746, in check_array\n",
            "    array = np.asarray(array, order=order, dtype=dtype)\n",
            "  File \"/usr/local/lib/python3.7/dist-packages/pandas/core/generic.py\", line 1993, in __array__\n",
            "    return np.asarray(self._values, dtype=dtype)\n",
            "ValueError: could not convert string to float: 'China'\n",
            "\n",
            "  warnings.warn(some_fits_failed_message, FitFailedWarning)\n"
          ]
        }
      ]
    },
    {
      "cell_type": "markdown",
      "source": [
        "# Árvore de Decisão"
      ],
      "metadata": {
        "id": "CCAj574MP41i"
      }
    },
    {
      "cell_type": "code",
      "source": [
        "#Importando a biblioteca da Árvore de Decisão\n",
        "from sklearn.tree import DecisionTreeClassifier"
      ],
      "metadata": {
        "id": "vaQWPaKhtm-7"
      },
      "execution_count": 179,
      "outputs": []
    },
    {
      "cell_type": "code",
      "source": [
        "#Instanciando o modelo\n",
        "model_tree = DecisionTreeClassifier(max_depth = 5, random_state = 42)\n",
        "\n",
        "#Rodando o modelo\n",
        "val_score_tree = cross_val_score(model_tree, \n",
        "                            X_train, y_train, \n",
        "                            scoring='accuracy', \n",
        "                            cv=cv)\n",
        "\n",
        "val_score_tree.mean()"
      ],
      "metadata": {
        "colab": {
          "base_uri": "https://localhost:8080/"
        },
        "id": "tI6m_bBJtqa7",
        "outputId": "ac448992-356a-482c-8c1e-e0ff2e911b43"
      },
      "execution_count": 180,
      "outputs": [
        {
          "output_type": "stream",
          "name": "stderr",
          "text": [
            "/usr/local/lib/python3.7/dist-packages/sklearn/model_selection/_validation.py:372: FitFailedWarning: \n",
            "5 fits failed out of a total of 5.\n",
            "The score on these train-test partitions for these parameters will be set to nan.\n",
            "If these failures are not expected, you can try to debug them by setting error_score='raise'.\n",
            "\n",
            "Below are more details about the failures:\n",
            "--------------------------------------------------------------------------------\n",
            "1 fits failed with the following error:\n",
            "Traceback (most recent call last):\n",
            "  File \"/usr/local/lib/python3.7/dist-packages/sklearn/model_selection/_validation.py\", line 680, in _fit_and_score\n",
            "    estimator.fit(X_train, y_train, **fit_params)\n",
            "  File \"/usr/local/lib/python3.7/dist-packages/sklearn/tree/_classes.py\", line 942, in fit\n",
            "    X_idx_sorted=X_idx_sorted,\n",
            "  File \"/usr/local/lib/python3.7/dist-packages/sklearn/tree/_classes.py\", line 166, in fit\n",
            "    X, y, validate_separately=(check_X_params, check_y_params)\n",
            "  File \"/usr/local/lib/python3.7/dist-packages/sklearn/base.py\", line 578, in _validate_data\n",
            "    X = check_array(X, **check_X_params)\n",
            "  File \"/usr/local/lib/python3.7/dist-packages/sklearn/utils/validation.py\", line 746, in check_array\n",
            "    array = np.asarray(array, order=order, dtype=dtype)\n",
            "  File \"/usr/local/lib/python3.7/dist-packages/pandas/core/generic.py\", line 1993, in __array__\n",
            "    return np.asarray(self._values, dtype=dtype)\n",
            "ValueError: could not convert string to float: 'Ransom'\n",
            "\n",
            "--------------------------------------------------------------------------------\n",
            "4 fits failed with the following error:\n",
            "Traceback (most recent call last):\n",
            "  File \"/usr/local/lib/python3.7/dist-packages/sklearn/model_selection/_validation.py\", line 680, in _fit_and_score\n",
            "    estimator.fit(X_train, y_train, **fit_params)\n",
            "  File \"/usr/local/lib/python3.7/dist-packages/sklearn/tree/_classes.py\", line 942, in fit\n",
            "    X_idx_sorted=X_idx_sorted,\n",
            "  File \"/usr/local/lib/python3.7/dist-packages/sklearn/tree/_classes.py\", line 166, in fit\n",
            "    X, y, validate_separately=(check_X_params, check_y_params)\n",
            "  File \"/usr/local/lib/python3.7/dist-packages/sklearn/base.py\", line 578, in _validate_data\n",
            "    X = check_array(X, **check_X_params)\n",
            "  File \"/usr/local/lib/python3.7/dist-packages/sklearn/utils/validation.py\", line 746, in check_array\n",
            "    array = np.asarray(array, order=order, dtype=dtype)\n",
            "  File \"/usr/local/lib/python3.7/dist-packages/pandas/core/generic.py\", line 1993, in __array__\n",
            "    return np.asarray(self._values, dtype=dtype)\n",
            "ValueError: could not convert string to float: 'Con Calma'\n",
            "\n",
            "  warnings.warn(some_fits_failed_message, FitFailedWarning)\n"
          ]
        },
        {
          "output_type": "execute_result",
          "data": {
            "text/plain": [
              "nan"
            ]
          },
          "metadata": {},
          "execution_count": 180
        }
      ]
    },
    {
      "cell_type": "markdown",
      "source": [
        "# Naive Bayes"
      ],
      "metadata": {
        "id": "pm4szOZEJm17"
      }
    },
    {
      "cell_type": "code",
      "source": [
        "#Importando a biblioteca de Naive Bayes\n",
        "from sklearn.naive_bayes import GaussianNB"
      ],
      "metadata": {
        "id": "0ud7WrPHtwfz"
      },
      "execution_count": 181,
      "outputs": []
    },
    {
      "cell_type": "code",
      "source": [
        "#Instanciando o modelo\n",
        "model_bayes = GaussianNB()\n",
        "\n",
        "#Rodando o modelo\n",
        "val_score_bayes = cross_val_score(model_bayes, \n",
        "                            X_train, y_train, \n",
        "                            scoring='accuracy', \n",
        "                            cv=cv)\n",
        "\n",
        "val_score_bayes.mean()"
      ],
      "metadata": {
        "colab": {
          "base_uri": "https://localhost:8080/"
        },
        "id": "R2TIlYqXtzwJ",
        "outputId": "5f439ee2-b2c6-4369-e124-55150ed90df9"
      },
      "execution_count": 182,
      "outputs": [
        {
          "output_type": "stream",
          "name": "stderr",
          "text": [
            "/usr/local/lib/python3.7/dist-packages/sklearn/model_selection/_validation.py:372: FitFailedWarning: \n",
            "5 fits failed out of a total of 5.\n",
            "The score on these train-test partitions for these parameters will be set to nan.\n",
            "If these failures are not expected, you can try to debug them by setting error_score='raise'.\n",
            "\n",
            "Below are more details about the failures:\n",
            "--------------------------------------------------------------------------------\n",
            "1 fits failed with the following error:\n",
            "Traceback (most recent call last):\n",
            "  File \"/usr/local/lib/python3.7/dist-packages/sklearn/model_selection/_validation.py\", line 680, in _fit_and_score\n",
            "    estimator.fit(X_train, y_train, **fit_params)\n",
            "  File \"/usr/local/lib/python3.7/dist-packages/sklearn/naive_bayes.py\", line 246, in fit\n",
            "    X, y, np.unique(y), _refit=True, sample_weight=sample_weight\n",
            "  File \"/usr/local/lib/python3.7/dist-packages/sklearn/naive_bayes.py\", line 402, in _partial_fit\n",
            "    X, y = self._validate_data(X, y, reset=first_call)\n",
            "  File \"/usr/local/lib/python3.7/dist-packages/sklearn/base.py\", line 581, in _validate_data\n",
            "    X, y = check_X_y(X, y, **check_params)\n",
            "  File \"/usr/local/lib/python3.7/dist-packages/sklearn/utils/validation.py\", line 976, in check_X_y\n",
            "    estimator=estimator,\n",
            "  File \"/usr/local/lib/python3.7/dist-packages/sklearn/utils/validation.py\", line 746, in check_array\n",
            "    array = np.asarray(array, order=order, dtype=dtype)\n",
            "  File \"/usr/local/lib/python3.7/dist-packages/pandas/core/generic.py\", line 1993, in __array__\n",
            "    return np.asarray(self._values, dtype=dtype)\n",
            "ValueError: could not convert string to float: 'Ransom'\n",
            "\n",
            "--------------------------------------------------------------------------------\n",
            "4 fits failed with the following error:\n",
            "Traceback (most recent call last):\n",
            "  File \"/usr/local/lib/python3.7/dist-packages/sklearn/model_selection/_validation.py\", line 680, in _fit_and_score\n",
            "    estimator.fit(X_train, y_train, **fit_params)\n",
            "  File \"/usr/local/lib/python3.7/dist-packages/sklearn/naive_bayes.py\", line 246, in fit\n",
            "    X, y, np.unique(y), _refit=True, sample_weight=sample_weight\n",
            "  File \"/usr/local/lib/python3.7/dist-packages/sklearn/naive_bayes.py\", line 402, in _partial_fit\n",
            "    X, y = self._validate_data(X, y, reset=first_call)\n",
            "  File \"/usr/local/lib/python3.7/dist-packages/sklearn/base.py\", line 581, in _validate_data\n",
            "    X, y = check_X_y(X, y, **check_params)\n",
            "  File \"/usr/local/lib/python3.7/dist-packages/sklearn/utils/validation.py\", line 976, in check_X_y\n",
            "    estimator=estimator,\n",
            "  File \"/usr/local/lib/python3.7/dist-packages/sklearn/utils/validation.py\", line 746, in check_array\n",
            "    array = np.asarray(array, order=order, dtype=dtype)\n",
            "  File \"/usr/local/lib/python3.7/dist-packages/pandas/core/generic.py\", line 1993, in __array__\n",
            "    return np.asarray(self._values, dtype=dtype)\n",
            "ValueError: could not convert string to float: 'Con Calma'\n",
            "\n",
            "  warnings.warn(some_fits_failed_message, FitFailedWarning)\n"
          ]
        },
        {
          "output_type": "execute_result",
          "data": {
            "text/plain": [
              "nan"
            ]
          },
          "metadata": {},
          "execution_count": 182
        }
      ]
    },
    {
      "cell_type": "markdown",
      "source": [
        "# KNN"
      ],
      "metadata": {
        "id": "hDtlkAIOJjXj"
      }
    },
    {
      "cell_type": "code",
      "source": [
        "#Importando a biblioteca de K-Nearest Neighbors\n",
        "from sklearn.neighbors import KNeighborsClassifier"
      ],
      "metadata": {
        "id": "EKs6P80yt6VN"
      },
      "execution_count": null,
      "outputs": []
    },
    {
      "cell_type": "code",
      "source": [
        "#Instanciando o modelo\n",
        "model_knn = KNeighborsClassifier(n_neighbors=5, n_jobs = 2)\n",
        "\n",
        "#Rodando o modelo\n",
        "val_score_KNN = cross_val_score(model_knn, \n",
        "                            X_train, y_train, \n",
        "                            scoring='accuracy', \n",
        "                            cv=cv)\n",
        "\n",
        "val_score_KNN.mean()"
      ],
      "metadata": {
        "id": "epRt1N40t9py"
      },
      "execution_count": null,
      "outputs": []
    },
    {
      "cell_type": "markdown",
      "source": [
        "# Random Forest"
      ],
      "metadata": {
        "id": "XRw5JXfNJgX2"
      }
    },
    {
      "cell_type": "code",
      "source": [
        "#Importando a biblioteca de Random Forest\n",
        "from sklearn.ensemble import RandomForestClassifier"
      ],
      "metadata": {
        "id": "jae4nxL0uCJC"
      },
      "execution_count": null,
      "outputs": []
    },
    {
      "cell_type": "code",
      "source": [
        "#Instanciando o modelo\n",
        "model_forest = RandomForestClassifier(n_estimators=1000, max_depth=5, max_features=\"sqrt\", max_samples=0.7)\n",
        "\n",
        "#Rodando o modelo\n",
        "val_score_forest = cross_val_score(model_forest, \n",
        "                            X_train, y_train, \n",
        "                            scoring='accuracy', \n",
        "                            cv=cv)\n",
        "\n",
        "val_score_forest.mean()"
      ],
      "metadata": {
        "id": "cLphLjOhuCyw"
      },
      "execution_count": null,
      "outputs": []
    },
    {
      "cell_type": "markdown",
      "source": [
        "# Considerações e Insights"
      ],
      "metadata": {
        "id": "X6zf55XZQNog"
      }
    },
    {
      "cell_type": "markdown",
      "source": [
        "- Pensei em segmentar as caracteristicas para observar quantos clusters definir e reduzir para menos grupos por características comuns com elbow method) \n",
        "- As características das músicas mais populares são: \n",
        "- Os artistas com mais de uma música no top 50 são do gênero musical pop"
      ],
      "metadata": {
        "id": "X7QnPmzkiJaW"
      }
    }
  ]
}